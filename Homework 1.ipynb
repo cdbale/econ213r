{
 "cells": [
  {
   "cell_type": "markdown",
   "metadata": {},
   "source": []
  },
  {
   "cell_type": "code",
   "execution_count": 1,
   "metadata": {},
   "outputs": [],
   "source": [
    "## import packages to use for importing, cleaning, and graphing data\n",
    "import pandas as pd\n",
    "import numpy as np\n",
    "import seaborn as sns\n",
    "import matplotlib.pyplot as plt\n",
    "%matplotlib inline"
   ]
  },
  {
   "cell_type": "code",
   "execution_count": 2,
   "metadata": {},
   "outputs": [],
   "source": [
    "## import nfl salary data as nfl_salary\n",
    "nfl_salary = pd.read_csv(\"C:/Users/camer/Desktop/nfl_salary.txt\", delimiter = '\\t')"
   ]
  },
  {
   "cell_type": "markdown",
   "metadata": {},
   "source": [
    "This data can be used to compare salaries across different positions in the NFL. It will be\n",
    "interesting to determine what position makes the most money on average and which positions have the most variation or widest \n",
    "range of salaries."
   ]
  },
  {
   "cell_type": "code",
   "execution_count": 3,
   "metadata": {},
   "outputs": [
    {
     "data": {
      "text/html": [
       "<div>\n",
       "<style scoped>\n",
       "    .dataframe tbody tr th:only-of-type {\n",
       "        vertical-align: middle;\n",
       "    }\n",
       "\n",
       "    .dataframe tbody tr th {\n",
       "        vertical-align: top;\n",
       "    }\n",
       "\n",
       "    .dataframe thead th {\n",
       "        text-align: right;\n",
       "    }\n",
       "</style>\n",
       "<table border=\"1\" class=\"dataframe\">\n",
       "  <thead>\n",
       "    <tr style=\"text-align: right;\">\n",
       "      <th></th>\n",
       "      <th>year</th>\n",
       "      <th>Cornerback</th>\n",
       "      <th>Defensive Lineman</th>\n",
       "      <th>Linebacker</th>\n",
       "      <th>Offensive Lineman</th>\n",
       "      <th>Quarterback</th>\n",
       "      <th>Running Back</th>\n",
       "      <th>Safety</th>\n",
       "      <th>Special Teamer</th>\n",
       "      <th>Tight End</th>\n",
       "      <th>Wide Receiver</th>\n",
       "    </tr>\n",
       "  </thead>\n",
       "  <tbody>\n",
       "    <tr>\n",
       "      <th>0</th>\n",
       "      <td>2011</td>\n",
       "      <td>11265916</td>\n",
       "      <td>17818000</td>\n",
       "      <td>16420000</td>\n",
       "      <td>15960000</td>\n",
       "      <td>17228125.0</td>\n",
       "      <td>12955000</td>\n",
       "      <td>8871428</td>\n",
       "      <td>4300000.0</td>\n",
       "      <td>8734375</td>\n",
       "      <td>16250000</td>\n",
       "    </tr>\n",
       "    <tr>\n",
       "      <th>1</th>\n",
       "      <td>2011</td>\n",
       "      <td>11000000</td>\n",
       "      <td>16200000</td>\n",
       "      <td>15623000</td>\n",
       "      <td>12800000</td>\n",
       "      <td>16000000.0</td>\n",
       "      <td>10873833</td>\n",
       "      <td>8787500</td>\n",
       "      <td>3725000.0</td>\n",
       "      <td>8591000</td>\n",
       "      <td>14175000</td>\n",
       "    </tr>\n",
       "    <tr>\n",
       "      <th>2</th>\n",
       "      <td>2011</td>\n",
       "      <td>10000000</td>\n",
       "      <td>12476000</td>\n",
       "      <td>11825000</td>\n",
       "      <td>11767500</td>\n",
       "      <td>14400000.0</td>\n",
       "      <td>9479000</td>\n",
       "      <td>8282500</td>\n",
       "      <td>3556176.0</td>\n",
       "      <td>8290000</td>\n",
       "      <td>11424000</td>\n",
       "    </tr>\n",
       "    <tr>\n",
       "      <th>3</th>\n",
       "      <td>2011</td>\n",
       "      <td>10000000</td>\n",
       "      <td>11904706</td>\n",
       "      <td>10083333</td>\n",
       "      <td>10358200</td>\n",
       "      <td>14100000.0</td>\n",
       "      <td>7700000</td>\n",
       "      <td>8000000</td>\n",
       "      <td>3500000.0</td>\n",
       "      <td>7723333</td>\n",
       "      <td>11415000</td>\n",
       "    </tr>\n",
       "    <tr>\n",
       "      <th>4</th>\n",
       "      <td>2011</td>\n",
       "      <td>10000000</td>\n",
       "      <td>11762782</td>\n",
       "      <td>10020000</td>\n",
       "      <td>10000000</td>\n",
       "      <td>13510000.0</td>\n",
       "      <td>7500000</td>\n",
       "      <td>7804333</td>\n",
       "      <td>3250000.0</td>\n",
       "      <td>6974666</td>\n",
       "      <td>10800000</td>\n",
       "    </tr>\n",
       "  </tbody>\n",
       "</table>\n",
       "</div>"
      ],
      "text/plain": [
       "   year  Cornerback  Defensive Lineman  Linebacker  Offensive Lineman  \\\n",
       "0  2011    11265916           17818000    16420000           15960000   \n",
       "1  2011    11000000           16200000    15623000           12800000   \n",
       "2  2011    10000000           12476000    11825000           11767500   \n",
       "3  2011    10000000           11904706    10083333           10358200   \n",
       "4  2011    10000000           11762782    10020000           10000000   \n",
       "\n",
       "   Quarterback  Running Back   Safety  Special Teamer  Tight End  \\\n",
       "0   17228125.0      12955000  8871428       4300000.0    8734375   \n",
       "1   16000000.0      10873833  8787500       3725000.0    8591000   \n",
       "2   14400000.0       9479000  8282500       3556176.0    8290000   \n",
       "3   14100000.0       7700000  8000000       3500000.0    7723333   \n",
       "4   13510000.0       7500000  7804333       3250000.0    6974666   \n",
       "\n",
       "   Wide Receiver  \n",
       "0       16250000  \n",
       "1       14175000  \n",
       "2       11424000  \n",
       "3       11415000  \n",
       "4       10800000  "
      ]
     },
     "execution_count": 3,
     "metadata": {},
     "output_type": "execute_result"
    }
   ],
   "source": [
    "## view the top few rows of nfl_salary to make sure it read in correctly\n",
    "nfl_salary.head()"
   ]
  },
  {
   "cell_type": "markdown",
   "metadata": {},
   "source": [
    "Data in long format is typically easier to read, so I want to change the dataframe to contain only 3 variables: year, position, and salary. Each row will correspond to a different player, showing the year the observation was recorded and the player's position and salary."
   ]
  },
  {
   "cell_type": "code",
   "execution_count": 15,
   "metadata": {},
   "outputs": [],
   "source": [
    "## use melt function to change the column names to a new variable 'position', with corresponding salary values\n",
    "nfl_salary = pd.melt(nfl_salary, id_vars = ['year'], value_vars = nfl_salary[['Cornerback', 'Defensive Lineman', 'Linebacker',\n",
    "                                                            'Offensive Lineman', 'Quarterback', 'Running Back', 'Safety',\n",
    "                                                            'Special Teamer', 'Tight End', 'Wide Receiver']],\n",
    "               var_name = 'Position', value_name = 'Salary')"
   ]
  },
  {
   "cell_type": "code",
   "execution_count": 59,
   "metadata": {},
   "outputs": [
    {
     "data": {
      "text/html": [
       "<div>\n",
       "<style scoped>\n",
       "    .dataframe tbody tr th:only-of-type {\n",
       "        vertical-align: middle;\n",
       "    }\n",
       "\n",
       "    .dataframe tbody tr th {\n",
       "        vertical-align: top;\n",
       "    }\n",
       "\n",
       "    .dataframe thead th {\n",
       "        text-align: right;\n",
       "    }\n",
       "</style>\n",
       "<table border=\"1\" class=\"dataframe\">\n",
       "  <thead>\n",
       "    <tr style=\"text-align: right;\">\n",
       "      <th></th>\n",
       "      <th>year</th>\n",
       "      <th>Position</th>\n",
       "      <th>Salary</th>\n",
       "    </tr>\n",
       "  </thead>\n",
       "  <tbody>\n",
       "    <tr>\n",
       "      <th>0</th>\n",
       "      <td>2011</td>\n",
       "      <td>Cornerback</td>\n",
       "      <td>11265916.0</td>\n",
       "    </tr>\n",
       "    <tr>\n",
       "      <th>1</th>\n",
       "      <td>2011</td>\n",
       "      <td>Cornerback</td>\n",
       "      <td>11000000.0</td>\n",
       "    </tr>\n",
       "    <tr>\n",
       "      <th>2</th>\n",
       "      <td>2011</td>\n",
       "      <td>Cornerback</td>\n",
       "      <td>10000000.0</td>\n",
       "    </tr>\n",
       "    <tr>\n",
       "      <th>3</th>\n",
       "      <td>2011</td>\n",
       "      <td>Cornerback</td>\n",
       "      <td>10000000.0</td>\n",
       "    </tr>\n",
       "    <tr>\n",
       "      <th>4</th>\n",
       "      <td>2011</td>\n",
       "      <td>Cornerback</td>\n",
       "      <td>10000000.0</td>\n",
       "    </tr>\n",
       "  </tbody>\n",
       "</table>\n",
       "</div>"
      ],
      "text/plain": [
       "   year    Position      Salary\n",
       "0  2011  Cornerback  11265916.0\n",
       "1  2011  Cornerback  11000000.0\n",
       "2  2011  Cornerback  10000000.0\n",
       "3  2011  Cornerback  10000000.0\n",
       "4  2011  Cornerback  10000000.0"
      ]
     },
     "execution_count": 59,
     "metadata": {},
     "output_type": "execute_result"
    }
   ],
   "source": [
    "## make sure pd.melt performed correctly\n",
    "nfl_salary.head()"
   ]
  },
  {
   "cell_type": "markdown",
   "metadata": {},
   "source": [
    "I'll check for outliers and missing values to make sure the data is clean and organized before starting analysis and exploration."
   ]
  },
  {
   "cell_type": "code",
   "execution_count": 133,
   "metadata": {},
   "outputs": [
    {
     "data": {
      "text/plain": [
       "count        8000.00\n",
       "mean      3495060.00\n",
       "std       3618255.25\n",
       "min         24705.00\n",
       "25%        893903.75\n",
       "50%       2293934.00\n",
       "75%       4625000.00\n",
       "max      37000000.00\n",
       "Name: Salary, dtype: float32"
      ]
     },
     "execution_count": 133,
     "metadata": {},
     "output_type": "execute_result"
    }
   ],
   "source": [
    "## getting simple summary statistics of the salary variable and changing from scientific notation so it's easier to read\n",
    "nfl_salary_description = nfl_salary['Salary'].describe()\n",
    "pd.to_numeric(nfl_salary_description, downcast = 'float')"
   ]
  },
  {
   "cell_type": "markdown",
   "metadata": {},
   "source": [
    "It doesn't look like there are any crazy outliers in the data, although the minimum salary of 24,705 looks suspicious. I want to compare minimum values across all positions."
   ]
  },
  {
   "cell_type": "code",
   "execution_count": 134,
   "metadata": {},
   "outputs": [
    {
     "data": {
      "text/plain": [
       "Position\n",
       "Cornerback            600000.0\n",
       "Defensive Lineman    1400000.0\n",
       "Linebacker           1243687.0\n",
       "Offensive Lineman    1873750.0\n",
       "Quarterback            24705.0\n",
       "Running Back          455125.0\n",
       "Safety                555000.0\n",
       "Special Teamer        128824.0\n",
       "Tight End             371824.0\n",
       "Wide Receiver         655812.0\n",
       "Name: Salary, dtype: float64"
      ]
     },
     "execution_count": 134,
     "metadata": {},
     "output_type": "execute_result"
    }
   ],
   "source": [
    "## find the minimum salary by position\n",
    "nfl_salary.groupby('Position')['Salary'].min()"
   ]
  },
  {
   "cell_type": "markdown",
   "metadata": {},
   "source": [
    "I think that the 24,705 is an outlier since none of the other positions have a minimum salary below 125,000."
   ]
  },
  {
   "cell_type": "markdown",
   "metadata": {},
   "source": [
    "I want to view the distribution of quarterback salaries and see if there are other salaries near 24,705, or if it should be removed. The other possibility is that there was an error when inputing the data and a zero got left off the end."
   ]
  },
  {
   "cell_type": "code",
   "execution_count": 154,
   "metadata": {},
   "outputs": [
    {
     "data": {
      "text/html": [
       "<div>\n",
       "<style scoped>\n",
       "    .dataframe tbody tr th:only-of-type {\n",
       "        vertical-align: middle;\n",
       "    }\n",
       "\n",
       "    .dataframe tbody tr th {\n",
       "        vertical-align: top;\n",
       "    }\n",
       "\n",
       "    .dataframe thead th {\n",
       "        text-align: right;\n",
       "    }\n",
       "</style>\n",
       "<table border=\"1\" class=\"dataframe\">\n",
       "  <thead>\n",
       "    <tr style=\"text-align: right;\">\n",
       "      <th></th>\n",
       "      <th>year</th>\n",
       "      <th>Position</th>\n",
       "      <th>Salary</th>\n",
       "    </tr>\n",
       "  </thead>\n",
       "  <tbody>\n",
       "    <tr>\n",
       "      <th>3588</th>\n",
       "      <td>2014</td>\n",
       "      <td>Quarterback</td>\n",
       "      <td>24705.0</td>\n",
       "    </tr>\n",
       "    <tr>\n",
       "      <th>3896</th>\n",
       "      <td>2017</td>\n",
       "      <td>Quarterback</td>\n",
       "      <td>27353.0</td>\n",
       "    </tr>\n",
       "    <tr>\n",
       "      <th>3794</th>\n",
       "      <td>2016</td>\n",
       "      <td>Quarterback</td>\n",
       "      <td>30882.0</td>\n",
       "    </tr>\n",
       "    <tr>\n",
       "      <th>3492</th>\n",
       "      <td>2013</td>\n",
       "      <td>Quarterback</td>\n",
       "      <td>32647.0</td>\n",
       "    </tr>\n",
       "    <tr>\n",
       "      <th>3587</th>\n",
       "      <td>2014</td>\n",
       "      <td>Quarterback</td>\n",
       "      <td>33529.0</td>\n",
       "    </tr>\n",
       "  </tbody>\n",
       "</table>\n",
       "</div>"
      ],
      "text/plain": [
       "      year     Position   Salary\n",
       "3588  2014  Quarterback  24705.0\n",
       "3896  2017  Quarterback  27353.0\n",
       "3794  2016  Quarterback  30882.0\n",
       "3492  2013  Quarterback  32647.0\n",
       "3587  2014  Quarterback  33529.0"
      ]
     },
     "execution_count": 154,
     "metadata": {},
     "output_type": "execute_result"
    }
   ],
   "source": [
    "## create all_qbs, which contains all quarterback observations in ascending order by salary\n",
    "all_qbs = nfl_salary.loc[(nfl_salary.Position == 'Quarterback')].sort_values('Salary')\n",
    "all_qbs.head()"
   ]
  },
  {
   "cell_type": "markdown",
   "metadata": {},
   "source": [
    "It looks like the minimum quarterback salary of 24,705 is not an outlier judging by the all_qbs data, but I want to plot a density plot to be sure."
   ]
  },
  {
   "cell_type": "code",
   "execution_count": 159,
   "metadata": {},
   "outputs": [
    {
     "data": {
      "text/plain": [
       "<matplotlib.axes._subplots.AxesSubplot at 0x14ea5d89080>"
      ]
     },
     "execution_count": 159,
     "metadata": {},
     "output_type": "execute_result"
    },
    {
     "data": {
      "image/png": "[encoded data removed]",
      "text/plain": [
       "<Figure size 1080x1080 with 1 Axes>"
      ]
     },
     "metadata": {},
     "output_type": "display_data"
    }
   ],
   "source": [
    "## create a larger figure for the plot to fill, create a density plot of quarterback salaries\n",
    "plt.subplots(figsize = (15, 15))\n",
    "sns.distplot(all_qbs.Salary, hist = False)"
   ]
  },
  {
   "cell_type": "markdown",
   "metadata": {},
   "source": [
    "The distribution of quarterback salaries is very right skewed, and the minimum quarterback salary is close to the location where most of the data is clustered, so I will leave the observation in the data."
   ]
  },
  {
   "cell_type": "markdown",
   "metadata": {},
   "source": [
    "Next, I want to check for missing data."
   ]
  },
  {
   "cell_type": "code",
   "execution_count": 19,
   "metadata": {},
   "outputs": [
    {
     "name": "stdout",
     "output_type": "stream",
     "text": [
      "<class 'pandas.core.frame.DataFrame'>\n",
      "RangeIndex: 8000 entries, 0 to 7999\n",
      "Data columns (total 3 columns):\n",
      "year        8000 non-null int64\n",
      "Position    8000 non-null object\n",
      "Salary      7944 non-null float64\n",
      "dtypes: float64(1), int64(1), object(1)\n",
      "memory usage: 187.6+ KB\n"
     ]
    }
   ],
   "source": [
    "## using .info to view variables and types. \n",
    "nfl_salary.info()"
   ]
  },
  {
   "cell_type": "code",
   "execution_count": 31,
   "metadata": {},
   "outputs": [
    {
     "data": {
      "text/plain": [
       "Quarterback          800\n",
       "Safety               800\n",
       "Linebacker           800\n",
       "Special Teamer       800\n",
       "Offensive Lineman    800\n",
       "Tight End            800\n",
       "Defensive Lineman    800\n",
       "Cornerback           800\n",
       "Running Back         800\n",
       "Wide Receiver        800\n",
       "Name: Position, dtype: int64"
      ]
     },
     "execution_count": 31,
     "metadata": {},
     "output_type": "execute_result"
    }
   ],
   "source": [
    "## check how many unique observations there are for each position\n",
    "pd.value_counts(nfl_salary['Position'])"
   ]
  },
  {
   "cell_type": "code",
   "execution_count": 60,
   "metadata": {},
   "outputs": [
    {
     "data": {
      "text/plain": [
       "2015    1000\n",
       "2011    1000\n",
       "2018    1000\n",
       "2014    1000\n",
       "2017    1000\n",
       "2013    1000\n",
       "2016    1000\n",
       "2012    1000\n",
       "Name: year, dtype: int64"
      ]
     },
     "execution_count": 60,
     "metadata": {},
     "output_type": "execute_result"
    }
   ],
   "source": [
    "## check how many unique observations there are per year\n",
    "pd.value_counts(nfl_salary['year'])"
   ]
  },
  {
   "cell_type": "markdown",
   "metadata": {},
   "source": [
    "It looks like the data is spread evenly over all positions and all years. However, when examining the output of the .info call, it looks like the salary column has fewer observations than the others, which means it probably has missing values. I want to examine these missing values and decide whether to drop the observations with missing data or input values."
   ]
  },
  {
   "cell_type": "code",
   "execution_count": 61,
   "metadata": {},
   "outputs": [
    {
     "data": {
      "text/plain": [
       "Index(['Salary'], dtype='object')"
      ]
     },
     "execution_count": 61,
     "metadata": {},
     "output_type": "execute_result"
    }
   ],
   "source": [
    "## using .isnull to index out any columns that have null values\n",
    "nfl_salary.columns[nfl_salary.isnull().any()]"
   ]
  },
  {
   "cell_type": "markdown",
   "metadata": {},
   "source": [
    "The above code confirms that the salary variable has missing values."
   ]
  },
  {
   "cell_type": "code",
   "execution_count": 62,
   "metadata": {},
   "outputs": [
    {
     "data": {
      "text/html": [
       "<div>\n",
       "<style scoped>\n",
       "    .dataframe tbody tr th:only-of-type {\n",
       "        vertical-align: middle;\n",
       "    }\n",
       "\n",
       "    .dataframe tbody tr th {\n",
       "        vertical-align: top;\n",
       "    }\n",
       "\n",
       "    .dataframe thead th {\n",
       "        text-align: right;\n",
       "    }\n",
       "</style>\n",
       "<table border=\"1\" class=\"dataframe\">\n",
       "  <thead>\n",
       "    <tr style=\"text-align: right;\">\n",
       "      <th></th>\n",
       "      <th>year</th>\n",
       "      <th>Position</th>\n",
       "      <th>Salary</th>\n",
       "    </tr>\n",
       "  </thead>\n",
       "  <tbody>\n",
       "    <tr>\n",
       "      <th>3297</th>\n",
       "      <td>2011</td>\n",
       "      <td>Quarterback</td>\n",
       "      <td>NaN</td>\n",
       "    </tr>\n",
       "    <tr>\n",
       "      <th>3298</th>\n",
       "      <td>2011</td>\n",
       "      <td>Quarterback</td>\n",
       "      <td>NaN</td>\n",
       "    </tr>\n",
       "    <tr>\n",
       "      <th>3299</th>\n",
       "      <td>2011</td>\n",
       "      <td>Quarterback</td>\n",
       "      <td>NaN</td>\n",
       "    </tr>\n",
       "    <tr>\n",
       "      <th>3388</th>\n",
       "      <td>2012</td>\n",
       "      <td>Quarterback</td>\n",
       "      <td>NaN</td>\n",
       "    </tr>\n",
       "    <tr>\n",
       "      <th>3389</th>\n",
       "      <td>2012</td>\n",
       "      <td>Quarterback</td>\n",
       "      <td>NaN</td>\n",
       "    </tr>\n",
       "    <tr>\n",
       "      <th>3390</th>\n",
       "      <td>2012</td>\n",
       "      <td>Quarterback</td>\n",
       "      <td>NaN</td>\n",
       "    </tr>\n",
       "    <tr>\n",
       "      <th>3391</th>\n",
       "      <td>2012</td>\n",
       "      <td>Quarterback</td>\n",
       "      <td>NaN</td>\n",
       "    </tr>\n",
       "    <tr>\n",
       "      <th>3392</th>\n",
       "      <td>2012</td>\n",
       "      <td>Quarterback</td>\n",
       "      <td>NaN</td>\n",
       "    </tr>\n",
       "    <tr>\n",
       "      <th>3393</th>\n",
       "      <td>2012</td>\n",
       "      <td>Quarterback</td>\n",
       "      <td>NaN</td>\n",
       "    </tr>\n",
       "    <tr>\n",
       "      <th>3394</th>\n",
       "      <td>2012</td>\n",
       "      <td>Quarterback</td>\n",
       "      <td>NaN</td>\n",
       "    </tr>\n",
       "    <tr>\n",
       "      <th>3395</th>\n",
       "      <td>2012</td>\n",
       "      <td>Quarterback</td>\n",
       "      <td>NaN</td>\n",
       "    </tr>\n",
       "    <tr>\n",
       "      <th>3396</th>\n",
       "      <td>2012</td>\n",
       "      <td>Quarterback</td>\n",
       "      <td>NaN</td>\n",
       "    </tr>\n",
       "    <tr>\n",
       "      <th>3397</th>\n",
       "      <td>2012</td>\n",
       "      <td>Quarterback</td>\n",
       "      <td>NaN</td>\n",
       "    </tr>\n",
       "    <tr>\n",
       "      <th>3398</th>\n",
       "      <td>2012</td>\n",
       "      <td>Quarterback</td>\n",
       "      <td>NaN</td>\n",
       "    </tr>\n",
       "    <tr>\n",
       "      <th>3399</th>\n",
       "      <td>2012</td>\n",
       "      <td>Quarterback</td>\n",
       "      <td>NaN</td>\n",
       "    </tr>\n",
       "    <tr>\n",
       "      <th>3493</th>\n",
       "      <td>2013</td>\n",
       "      <td>Quarterback</td>\n",
       "      <td>NaN</td>\n",
       "    </tr>\n",
       "    <tr>\n",
       "      <th>3494</th>\n",
       "      <td>2013</td>\n",
       "      <td>Quarterback</td>\n",
       "      <td>NaN</td>\n",
       "    </tr>\n",
       "    <tr>\n",
       "      <th>3495</th>\n",
       "      <td>2013</td>\n",
       "      <td>Quarterback</td>\n",
       "      <td>NaN</td>\n",
       "    </tr>\n",
       "    <tr>\n",
       "      <th>3496</th>\n",
       "      <td>2013</td>\n",
       "      <td>Quarterback</td>\n",
       "      <td>NaN</td>\n",
       "    </tr>\n",
       "    <tr>\n",
       "      <th>3497</th>\n",
       "      <td>2013</td>\n",
       "      <td>Quarterback</td>\n",
       "      <td>NaN</td>\n",
       "    </tr>\n",
       "    <tr>\n",
       "      <th>3498</th>\n",
       "      <td>2013</td>\n",
       "      <td>Quarterback</td>\n",
       "      <td>NaN</td>\n",
       "    </tr>\n",
       "    <tr>\n",
       "      <th>3499</th>\n",
       "      <td>2013</td>\n",
       "      <td>Quarterback</td>\n",
       "      <td>NaN</td>\n",
       "    </tr>\n",
       "    <tr>\n",
       "      <th>3589</th>\n",
       "      <td>2014</td>\n",
       "      <td>Quarterback</td>\n",
       "      <td>NaN</td>\n",
       "    </tr>\n",
       "    <tr>\n",
       "      <th>3590</th>\n",
       "      <td>2014</td>\n",
       "      <td>Quarterback</td>\n",
       "      <td>NaN</td>\n",
       "    </tr>\n",
       "    <tr>\n",
       "      <th>3591</th>\n",
       "      <td>2014</td>\n",
       "      <td>Quarterback</td>\n",
       "      <td>NaN</td>\n",
       "    </tr>\n",
       "    <tr>\n",
       "      <th>3592</th>\n",
       "      <td>2014</td>\n",
       "      <td>Quarterback</td>\n",
       "      <td>NaN</td>\n",
       "    </tr>\n",
       "    <tr>\n",
       "      <th>3593</th>\n",
       "      <td>2014</td>\n",
       "      <td>Quarterback</td>\n",
       "      <td>NaN</td>\n",
       "    </tr>\n",
       "    <tr>\n",
       "      <th>3594</th>\n",
       "      <td>2014</td>\n",
       "      <td>Quarterback</td>\n",
       "      <td>NaN</td>\n",
       "    </tr>\n",
       "    <tr>\n",
       "      <th>3595</th>\n",
       "      <td>2014</td>\n",
       "      <td>Quarterback</td>\n",
       "      <td>NaN</td>\n",
       "    </tr>\n",
       "    <tr>\n",
       "      <th>3596</th>\n",
       "      <td>2014</td>\n",
       "      <td>Quarterback</td>\n",
       "      <td>NaN</td>\n",
       "    </tr>\n",
       "    <tr>\n",
       "      <th>3597</th>\n",
       "      <td>2014</td>\n",
       "      <td>Quarterback</td>\n",
       "      <td>NaN</td>\n",
       "    </tr>\n",
       "    <tr>\n",
       "      <th>3598</th>\n",
       "      <td>2014</td>\n",
       "      <td>Quarterback</td>\n",
       "      <td>NaN</td>\n",
       "    </tr>\n",
       "    <tr>\n",
       "      <th>3599</th>\n",
       "      <td>2014</td>\n",
       "      <td>Quarterback</td>\n",
       "      <td>NaN</td>\n",
       "    </tr>\n",
       "    <tr>\n",
       "      <th>3697</th>\n",
       "      <td>2015</td>\n",
       "      <td>Quarterback</td>\n",
       "      <td>NaN</td>\n",
       "    </tr>\n",
       "    <tr>\n",
       "      <th>3698</th>\n",
       "      <td>2015</td>\n",
       "      <td>Quarterback</td>\n",
       "      <td>NaN</td>\n",
       "    </tr>\n",
       "    <tr>\n",
       "      <th>3699</th>\n",
       "      <td>2015</td>\n",
       "      <td>Quarterback</td>\n",
       "      <td>NaN</td>\n",
       "    </tr>\n",
       "    <tr>\n",
       "      <th>3795</th>\n",
       "      <td>2016</td>\n",
       "      <td>Quarterback</td>\n",
       "      <td>NaN</td>\n",
       "    </tr>\n",
       "    <tr>\n",
       "      <th>3796</th>\n",
       "      <td>2016</td>\n",
       "      <td>Quarterback</td>\n",
       "      <td>NaN</td>\n",
       "    </tr>\n",
       "    <tr>\n",
       "      <th>3797</th>\n",
       "      <td>2016</td>\n",
       "      <td>Quarterback</td>\n",
       "      <td>NaN</td>\n",
       "    </tr>\n",
       "    <tr>\n",
       "      <th>3798</th>\n",
       "      <td>2016</td>\n",
       "      <td>Quarterback</td>\n",
       "      <td>NaN</td>\n",
       "    </tr>\n",
       "    <tr>\n",
       "      <th>3799</th>\n",
       "      <td>2016</td>\n",
       "      <td>Quarterback</td>\n",
       "      <td>NaN</td>\n",
       "    </tr>\n",
       "    <tr>\n",
       "      <th>3897</th>\n",
       "      <td>2017</td>\n",
       "      <td>Quarterback</td>\n",
       "      <td>NaN</td>\n",
       "    </tr>\n",
       "    <tr>\n",
       "      <th>3898</th>\n",
       "      <td>2017</td>\n",
       "      <td>Quarterback</td>\n",
       "      <td>NaN</td>\n",
       "    </tr>\n",
       "    <tr>\n",
       "      <th>3899</th>\n",
       "      <td>2017</td>\n",
       "      <td>Quarterback</td>\n",
       "      <td>NaN</td>\n",
       "    </tr>\n",
       "    <tr>\n",
       "      <th>3989</th>\n",
       "      <td>2018</td>\n",
       "      <td>Quarterback</td>\n",
       "      <td>NaN</td>\n",
       "    </tr>\n",
       "    <tr>\n",
       "      <th>3990</th>\n",
       "      <td>2018</td>\n",
       "      <td>Quarterback</td>\n",
       "      <td>NaN</td>\n",
       "    </tr>\n",
       "    <tr>\n",
       "      <th>3991</th>\n",
       "      <td>2018</td>\n",
       "      <td>Quarterback</td>\n",
       "      <td>NaN</td>\n",
       "    </tr>\n",
       "    <tr>\n",
       "      <th>3992</th>\n",
       "      <td>2018</td>\n",
       "      <td>Quarterback</td>\n",
       "      <td>NaN</td>\n",
       "    </tr>\n",
       "    <tr>\n",
       "      <th>3993</th>\n",
       "      <td>2018</td>\n",
       "      <td>Quarterback</td>\n",
       "      <td>NaN</td>\n",
       "    </tr>\n",
       "    <tr>\n",
       "      <th>3994</th>\n",
       "      <td>2018</td>\n",
       "      <td>Quarterback</td>\n",
       "      <td>NaN</td>\n",
       "    </tr>\n",
       "    <tr>\n",
       "      <th>3995</th>\n",
       "      <td>2018</td>\n",
       "      <td>Quarterback</td>\n",
       "      <td>NaN</td>\n",
       "    </tr>\n",
       "    <tr>\n",
       "      <th>3996</th>\n",
       "      <td>2018</td>\n",
       "      <td>Quarterback</td>\n",
       "      <td>NaN</td>\n",
       "    </tr>\n",
       "    <tr>\n",
       "      <th>3997</th>\n",
       "      <td>2018</td>\n",
       "      <td>Quarterback</td>\n",
       "      <td>NaN</td>\n",
       "    </tr>\n",
       "    <tr>\n",
       "      <th>3998</th>\n",
       "      <td>2018</td>\n",
       "      <td>Quarterback</td>\n",
       "      <td>NaN</td>\n",
       "    </tr>\n",
       "    <tr>\n",
       "      <th>3999</th>\n",
       "      <td>2018</td>\n",
       "      <td>Quarterback</td>\n",
       "      <td>NaN</td>\n",
       "    </tr>\n",
       "  </tbody>\n",
       "</table>\n",
       "</div>"
      ],
      "text/plain": [
       "      year     Position  Salary\n",
       "3297  2011  Quarterback     NaN\n",
       "3298  2011  Quarterback     NaN\n",
       "3299  2011  Quarterback     NaN\n",
       "3388  2012  Quarterback     NaN\n",
       "3389  2012  Quarterback     NaN\n",
       "3390  2012  Quarterback     NaN\n",
       "3391  2012  Quarterback     NaN\n",
       "3392  2012  Quarterback     NaN\n",
       "3393  2012  Quarterback     NaN\n",
       "3394  2012  Quarterback     NaN\n",
       "3395  2012  Quarterback     NaN\n",
       "3396  2012  Quarterback     NaN\n",
       "3397  2012  Quarterback     NaN\n",
       "3398  2012  Quarterback     NaN\n",
       "3399  2012  Quarterback     NaN\n",
       "3493  2013  Quarterback     NaN\n",
       "3494  2013  Quarterback     NaN\n",
       "3495  2013  Quarterback     NaN\n",
       "3496  2013  Quarterback     NaN\n",
       "3497  2013  Quarterback     NaN\n",
       "3498  2013  Quarterback     NaN\n",
       "3499  2013  Quarterback     NaN\n",
       "3589  2014  Quarterback     NaN\n",
       "3590  2014  Quarterback     NaN\n",
       "3591  2014  Quarterback     NaN\n",
       "3592  2014  Quarterback     NaN\n",
       "3593  2014  Quarterback     NaN\n",
       "3594  2014  Quarterback     NaN\n",
       "3595  2014  Quarterback     NaN\n",
       "3596  2014  Quarterback     NaN\n",
       "3597  2014  Quarterback     NaN\n",
       "3598  2014  Quarterback     NaN\n",
       "3599  2014  Quarterback     NaN\n",
       "3697  2015  Quarterback     NaN\n",
       "3698  2015  Quarterback     NaN\n",
       "3699  2015  Quarterback     NaN\n",
       "3795  2016  Quarterback     NaN\n",
       "3796  2016  Quarterback     NaN\n",
       "3797  2016  Quarterback     NaN\n",
       "3798  2016  Quarterback     NaN\n",
       "3799  2016  Quarterback     NaN\n",
       "3897  2017  Quarterback     NaN\n",
       "3898  2017  Quarterback     NaN\n",
       "3899  2017  Quarterback     NaN\n",
       "3989  2018  Quarterback     NaN\n",
       "3990  2018  Quarterback     NaN\n",
       "3991  2018  Quarterback     NaN\n",
       "3992  2018  Quarterback     NaN\n",
       "3993  2018  Quarterback     NaN\n",
       "3994  2018  Quarterback     NaN\n",
       "3995  2018  Quarterback     NaN\n",
       "3996  2018  Quarterback     NaN\n",
       "3997  2018  Quarterback     NaN\n",
       "3998  2018  Quarterback     NaN\n",
       "3999  2018  Quarterback     NaN"
      ]
     },
     "execution_count": 62,
     "metadata": {},
     "output_type": "execute_result"
    }
   ],
   "source": [
    "## view the rows from nfl_salary that contain missing values \n",
    "nfl_salary[nfl_salary.isnull().any(axis = 1)]"
   ]
  },
  {
   "cell_type": "markdown",
   "metadata": {},
   "source": [
    "It looks like the majority of players with missing salaries are Quarterbacks, with one special teams player. I'm going to input the average special teamer player salary in 2011 for the special teamer missing a salary, since it's only one value and likely wouldn't have changed the overall average and distribution of special teamer salaries by a large amount (there are 800 observations for each position). I'm only using the average in 2011 in case special teamer salaries have changed over time."
   ]
  },
  {
   "cell_type": "code",
   "execution_count": 63,
   "metadata": {},
   "outputs": [],
   "source": [
    "## filter the nfl_salary dataframe for special teams players in 2011, then calculate the mean salary for those players and\n",
    "## assign it to spec_team_mean. Use np.nanmean to ignore missing values.\n",
    "sp_teamers_11 = nfl_salary.loc[(nfl_salary.Position == 'Special Teamer') & (nfl_salary.year == 2011)]\n",
    "spec_team_mean = np.nanmean(sp_teamers_11.Salary)"
   ]
  },
  {
   "cell_type": "code",
   "execution_count": 64,
   "metadata": {},
   "outputs": [],
   "source": [
    "## replace the missing salary for the special teams player with the previously calculated mean\n",
    "nfl_salary.loc[(nfl_salary.Position == 'Special Teamer') & \n",
    "               (nfl_salary.year == 2011) &\n",
    "               (nfl_salary.Salary.isnull()), 'Salary'] = spec_team_mean"
   ]
  },
  {
   "cell_type": "markdown",
   "metadata": {},
   "source": [
    "Now to deal with the missing salaries for quarterbacks. I want to determine whether it would be appropriate to replace the missing quarterback salaries with the average quarterback salary for a given year."
   ]
  },
  {
   "cell_type": "code",
   "execution_count": 65,
   "metadata": {},
   "outputs": [
    {
     "data": {
      "text/html": [
       "<div>\n",
       "<style scoped>\n",
       "    .dataframe tbody tr th:only-of-type {\n",
       "        vertical-align: middle;\n",
       "    }\n",
       "\n",
       "    .dataframe tbody tr th {\n",
       "        vertical-align: top;\n",
       "    }\n",
       "\n",
       "    .dataframe thead th {\n",
       "        text-align: right;\n",
       "    }\n",
       "</style>\n",
       "<table border=\"1\" class=\"dataframe\">\n",
       "  <thead>\n",
       "    <tr style=\"text-align: right;\">\n",
       "      <th></th>\n",
       "      <th>Position</th>\n",
       "      <th>Salary</th>\n",
       "    </tr>\n",
       "    <tr>\n",
       "      <th>year</th>\n",
       "      <th></th>\n",
       "      <th></th>\n",
       "    </tr>\n",
       "  </thead>\n",
       "  <tbody>\n",
       "    <tr>\n",
       "      <th>2011</th>\n",
       "      <td>3</td>\n",
       "      <td>0</td>\n",
       "    </tr>\n",
       "    <tr>\n",
       "      <th>2012</th>\n",
       "      <td>12</td>\n",
       "      <td>0</td>\n",
       "    </tr>\n",
       "    <tr>\n",
       "      <th>2013</th>\n",
       "      <td>7</td>\n",
       "      <td>0</td>\n",
       "    </tr>\n",
       "    <tr>\n",
       "      <th>2014</th>\n",
       "      <td>11</td>\n",
       "      <td>0</td>\n",
       "    </tr>\n",
       "    <tr>\n",
       "      <th>2015</th>\n",
       "      <td>3</td>\n",
       "      <td>0</td>\n",
       "    </tr>\n",
       "    <tr>\n",
       "      <th>2016</th>\n",
       "      <td>5</td>\n",
       "      <td>0</td>\n",
       "    </tr>\n",
       "    <tr>\n",
       "      <th>2017</th>\n",
       "      <td>3</td>\n",
       "      <td>0</td>\n",
       "    </tr>\n",
       "    <tr>\n",
       "      <th>2018</th>\n",
       "      <td>11</td>\n",
       "      <td>0</td>\n",
       "    </tr>\n",
       "  </tbody>\n",
       "</table>\n",
       "</div>"
      ],
      "text/plain": [
       "      Position  Salary\n",
       "year                  \n",
       "2011         3       0\n",
       "2012        12       0\n",
       "2013         7       0\n",
       "2014        11       0\n",
       "2015         3       0\n",
       "2016         5       0\n",
       "2017         3       0\n",
       "2018        11       0"
      ]
     },
     "execution_count": 65,
     "metadata": {},
     "output_type": "execute_result"
    }
   ],
   "source": [
    "## get the null salary values, group them by year, and count how many quarterbacks in each year have a missing salary\n",
    "nfl_salary[nfl_salary.isnull().any(axis = 1)].groupby('year').count()"
   ]
  },
  {
   "cell_type": "code",
   "execution_count": 69,
   "metadata": {},
   "outputs": [
    {
     "data": {
      "text/plain": [
       "(100, 3)"
      ]
     },
     "execution_count": 69,
     "metadata": {},
     "output_type": "execute_result"
    }
   ],
   "source": [
    "## find how many quarterback observations there are in 2012\n",
    "nfl_salary.loc[(nfl_salary.Position == 'Quarterback') & (nfl_salary.year == 2012)].shape"
   ]
  },
  {
   "cell_type": "markdown",
   "metadata": {},
   "source": [
    "Since there are 100 observations containing quarterback salary info in 2012, I think it would be appropriate to input the average 2012 quarterback salary for the missing quarterback salary values in 2012. Since there are an equal number of observations in each year and 2012 has the most missing salary values, I will replace missing quarterback salary values in a given year with that year's average quarterback salary. This should eliminate all missing values in my data."
   ]
  },
  {
   "cell_type": "code",
   "execution_count": 161,
   "metadata": {},
   "outputs": [],
   "source": [
    "## create all_years which contains every year in the nfl_salary data\n",
    "all_years = nfl_salary.year.unique()"
   ]
  },
  {
   "cell_type": "code",
   "execution_count": 71,
   "metadata": {},
   "outputs": [],
   "source": [
    "## create a for loop which filters for quarterbacks in each year and replaces missing salary values for a given year with the\n",
    "## average quarterback salary for that year\n",
    "for i in all_years:\n",
    "    qbs_in_year = nfl_salary.loc[(nfl_salary.Position == 'Quarterback') & (nfl_salary.year == i)]\n",
    "    qb_mean = np.nanmean(qbs_in_year.Salary)\n",
    "    nfl_salary.loc[(nfl_salary.Position == 'Quarterback') & \n",
    "               (nfl_salary.year == i) &\n",
    "               (nfl_salary.Salary.isnull()), 'Salary'] = qb_mean"
   ]
  },
  {
   "cell_type": "code",
   "execution_count": 72,
   "metadata": {},
   "outputs": [
    {
     "data": {
      "text/html": [
       "<div>\n",
       "<style scoped>\n",
       "    .dataframe tbody tr th:only-of-type {\n",
       "        vertical-align: middle;\n",
       "    }\n",
       "\n",
       "    .dataframe tbody tr th {\n",
       "        vertical-align: top;\n",
       "    }\n",
       "\n",
       "    .dataframe thead th {\n",
       "        text-align: right;\n",
       "    }\n",
       "</style>\n",
       "<table border=\"1\" class=\"dataframe\">\n",
       "  <thead>\n",
       "    <tr style=\"text-align: right;\">\n",
       "      <th></th>\n",
       "      <th>year</th>\n",
       "      <th>Position</th>\n",
       "      <th>Salary</th>\n",
       "    </tr>\n",
       "  </thead>\n",
       "  <tbody>\n",
       "  </tbody>\n",
       "</table>\n",
       "</div>"
      ],
      "text/plain": [
       "Empty DataFrame\n",
       "Columns: [year, Position, Salary]\n",
       "Index: []"
      ]
     },
     "execution_count": 72,
     "metadata": {},
     "output_type": "execute_result"
    }
   ],
   "source": [
    "## double check that all missing values have been replaced\n",
    "nfl_salary[nfl_salary.isnull().any(axis = 1)]"
   ]
  },
  {
   "cell_type": "code",
   "execution_count": 73,
   "metadata": {},
   "outputs": [
    {
     "name": "stdout",
     "output_type": "stream",
     "text": [
      "<class 'pandas.core.frame.DataFrame'>\n",
      "RangeIndex: 8000 entries, 0 to 7999\n",
      "Data columns (total 3 columns):\n",
      "year        8000 non-null int64\n",
      "Position    8000 non-null object\n",
      "Salary      8000 non-null float64\n",
      "dtypes: float64(1), int64(1), object(1)\n",
      "memory usage: 187.6+ KB\n"
     ]
    }
   ],
   "source": [
    "## triple check that all missing values have been replaced\n",
    "nfl_salary.info()"
   ]
  },
  {
   "cell_type": "markdown",
   "metadata": {},
   "source": [
    "Now that the data is clean and there are no missing values, I'm going to create some summary statistics and graphs to answer\n",
    "some questions of interest. Which position has the highest average salary? The highest median salary? Which position has the widest range of salaries?"
   ]
  },
  {
   "cell_type": "code",
   "execution_count": 85,
   "metadata": {},
   "outputs": [
    {
     "data": {
      "text/plain": [
       "Position\n",
       "Special Teamer       1353947.000\n",
       "Running Back         1937491.875\n",
       "Tight End            1964607.750\n",
       "Safety               2542319.500\n",
       "Cornerback           3607020.750\n",
       "Wide Receiver        3904309.250\n",
       "Linebacker           4488940.500\n",
       "Quarterback          4525761.500\n",
       "Defensive Lineman    5277673.000\n",
       "Offensive Lineman    5348530.000\n",
       "Name: Salary, dtype: float32"
      ]
     },
     "execution_count": 85,
     "metadata": {},
     "output_type": "execute_result"
    }
   ],
   "source": [
    "## calculate the mean salary by position for each year, convert data to make it easier to read\n",
    "avg_sals = nfl_salary.groupby('Position')[['Position', 'Salary']].mean().sort_values('Salary')\n",
    "pd.to_numeric(avg_sals['Salary'], downcast = 'float')"
   ]
  },
  {
   "cell_type": "code",
   "execution_count": 86,
   "metadata": {},
   "outputs": [
    {
     "data": {
      "text/html": [
       "<div>\n",
       "<style scoped>\n",
       "    .dataframe tbody tr th:only-of-type {\n",
       "        vertical-align: middle;\n",
       "    }\n",
       "\n",
       "    .dataframe tbody tr th {\n",
       "        vertical-align: top;\n",
       "    }\n",
       "\n",
       "    .dataframe thead th {\n",
       "        text-align: right;\n",
       "    }\n",
       "</style>\n",
       "<table border=\"1\" class=\"dataframe\">\n",
       "  <thead>\n",
       "    <tr style=\"text-align: right;\">\n",
       "      <th></th>\n",
       "      <th>Salary</th>\n",
       "    </tr>\n",
       "    <tr>\n",
       "      <th>Position</th>\n",
       "      <th></th>\n",
       "    </tr>\n",
       "  </thead>\n",
       "  <tbody>\n",
       "    <tr>\n",
       "      <th>Running Back</th>\n",
       "      <td>834569.5</td>\n",
       "    </tr>\n",
       "    <tr>\n",
       "      <th>Tight End</th>\n",
       "      <td>837913.0</td>\n",
       "    </tr>\n",
       "    <tr>\n",
       "      <th>Special Teamer</th>\n",
       "      <td>900000.0</td>\n",
       "    </tr>\n",
       "    <tr>\n",
       "      <th>Safety</th>\n",
       "      <td>1597381.5</td>\n",
       "    </tr>\n",
       "    <tr>\n",
       "      <th>Quarterback</th>\n",
       "      <td>1743750.0</td>\n",
       "    </tr>\n",
       "    <tr>\n",
       "      <th>Cornerback</th>\n",
       "      <td>2235577.0</td>\n",
       "    </tr>\n",
       "    <tr>\n",
       "      <th>Wide Receiver</th>\n",
       "      <td>2600000.0</td>\n",
       "    </tr>\n",
       "    <tr>\n",
       "      <th>Linebacker</th>\n",
       "      <td>3431139.0</td>\n",
       "    </tr>\n",
       "    <tr>\n",
       "      <th>Defensive Lineman</th>\n",
       "      <td>4145908.0</td>\n",
       "    </tr>\n",
       "    <tr>\n",
       "      <th>Offensive Lineman</th>\n",
       "      <td>4550000.0</td>\n",
       "    </tr>\n",
       "  </tbody>\n",
       "</table>\n",
       "</div>"
      ],
      "text/plain": [
       "                      Salary\n",
       "Position                    \n",
       "Running Back        834569.5\n",
       "Tight End           837913.0\n",
       "Special Teamer      900000.0\n",
       "Safety             1597381.5\n",
       "Quarterback        1743750.0\n",
       "Cornerback         2235577.0\n",
       "Wide Receiver      2600000.0\n",
       "Linebacker         3431139.0\n",
       "Defensive Lineman  4145908.0\n",
       "Offensive Lineman  4550000.0"
      ]
     },
     "execution_count": 86,
     "metadata": {},
     "output_type": "execute_result"
    }
   ],
   "source": [
    "## calculate the median salary by position for each year\n",
    "nfl_salary.groupby('Position')[['Position', 'Salary']].median().sort_values('Salary')"
   ]
  },
  {
   "cell_type": "code",
   "execution_count": 130,
   "metadata": {},
   "outputs": [
    {
     "data": {
      "text/plain": [
       "Position\n",
       "Cornerback           20000000.0\n",
       "Defensive Lineman    26100000.0\n",
       "Linebacker           22100000.0\n",
       "Offensive Lineman    17545000.0\n",
       "Quarterback          37000000.0\n",
       "Running Back         15400000.0\n",
       "Safety               13000000.0\n",
       "Special Teamer        5250000.0\n",
       "Tight End            12262000.0\n",
       "Wide Receiver        20558000.0\n",
       "Name: Salary, dtype: float64"
      ]
     },
     "execution_count": 130,
     "metadata": {},
     "output_type": "execute_result"
    }
   ],
   "source": [
    "## find the maximum salary by position\n",
    "nfl_salary.groupby('Position')['Salary'].max()"
   ]
  },
  {
   "cell_type": "code",
   "execution_count": 132,
   "metadata": {},
   "outputs": [
    {
     "data": {
      "text/plain": [
       "Position\n",
       "Cornerback            600000.0\n",
       "Defensive Lineman    1400000.0\n",
       "Linebacker           1243687.0\n",
       "Offensive Lineman    1873750.0\n",
       "Quarterback            24705.0\n",
       "Running Back          455125.0\n",
       "Safety                555000.0\n",
       "Special Teamer        128824.0\n",
       "Tight End             371824.0\n",
       "Wide Receiver         655812.0\n",
       "Name: Salary, dtype: float64"
      ]
     },
     "execution_count": 132,
     "metadata": {},
     "output_type": "execute_result"
    }
   ],
   "source": [
    "## find the minimum salary by position\n",
    "nfl_salary.groupby('Position')['Salary'].min()"
   ]
  },
  {
   "cell_type": "markdown",
   "metadata": {},
   "source": [
    "It looks like Offensive Lineman get paid the highest average and median salary. Let's see how the different positions' average salaries look over time."
   ]
  },
  {
   "cell_type": "code",
   "execution_count": 103,
   "metadata": {},
   "outputs": [],
   "source": [
    "## create nfl_salary2, which aggregates the salary values for each position in each year to the average salary, \n",
    "## making the positions into columns and leaving the year as the index\n",
    "nfl_salary2 = nfl_salary.pivot_table(values = 'Salary', index = 'year', columns = 'Position', aggfunc = np.mean)"
   ]
  },
  {
   "cell_type": "code",
   "execution_count": 122,
   "metadata": {},
   "outputs": [
    {
     "data": {
      "text/plain": [
       "<matplotlib.legend.Legend at 0x14ea28dd278>"
      ]
     },
     "execution_count": 122,
     "metadata": {},
     "output_type": "execute_result"
    },
    {
     "data": {
      "image/png": "[encoded data removed]",
      "text/plain": [
       "<Figure size 1080x1080 with 1 Axes>"
      ]
     },
     "metadata": {},
     "output_type": "display_data"
    }
   ],
   "source": [
    "## use plt.subplots to create larger space for plot to fill\n",
    "## create pos_columns, which contains the column names of nfl_salary2\n",
    "## create pos_colors, which contains each position name and the corresponding color/line type to plot it as\n",
    "## create for loop which plots a line plot for each position's average salary over time\n",
    "## format the legend using plt.legend\n",
    "plt.subplots(figsize = (15, 15))\n",
    "pos_columns = list(nfl_salary2)\n",
    "pos_colors = {'Cornerback':'b-', 'Defensive Lineman':'g-', 'Linebacker':'r-', 'Offensive Lineman':'y-', \n",
    "              'Quarterback':'k-','Running Back':'c-', 'Safety':'m-', 'Special Teamer':'s-',\n",
    "              'Tight End':'d-', 'Wide Receiver':'o-'}\n",
    "for pos in pos_columns:\n",
    "    plt.plot(nfl_salary2.index, nfl_salary2[pos], pos_colors[pos], label = pos)\n",
    "plt.legend(loc = 'best', fontsize = 'x-large')"
   ]
  },
  {
   "cell_type": "markdown",
   "metadata": {},
   "source": [
    "The average salary for most positions have been increasing over the past 8 years. However, the average salary for running backs\n",
    "has decreased. Could this reflect less value being placed on running backs and increased value being placed on tight ends and \n",
    "wide receivers? That question may be answerable using the next dataset that I analyze."
   ]
  },
  {
   "cell_type": "markdown",
   "metadata": {},
   "source": [
    "I also want to see which positions have the most variability in their salary levels. "
   ]
  },
  {
   "cell_type": "code",
   "execution_count": 183,
   "metadata": {},
   "outputs": [
    {
     "data": {
      "text/plain": [
       "[Text(0,0,'Cornerback'),\n",
       " Text(0,0,'Defensive Lineman'),\n",
       " Text(0,0,'Linebacker'),\n",
       " Text(0,0,'Offensive Lineman'),\n",
       " Text(0,0,'Quarterback'),\n",
       " Text(0,0,'Running Back'),\n",
       " Text(0,0,'Safety'),\n",
       " Text(0,0,'Special Teamer'),\n",
       " Text(0,0,'Tight End'),\n",
       " Text(0,0,'Wide Receiver')]"
      ]
     },
     "execution_count": 183,
     "metadata": {},
     "output_type": "execute_result"
    },
    {
     "data": {
      "image/png": "[encoded data removed]",
      "text/plain": [
       "<Figure size 1080x1080 with 1 Axes>"
      ]
     },
     "metadata": {},
     "output_type": "display_data"
    }
   ],
   "source": [
    "## create violin plot showing the distribution of salaries by position\n",
    "plt.subplots(figsize = (15, 15))\n",
    "pos_viol = sns.violinplot(x = 'Position', y = 'Salary', data = nfl_salary, scale = 'width')\n",
    "pos_viol.set_xticklabels(pos_viol.get_xticklabels(), rotation=30)"
   ]
  },
  {
   "cell_type": "markdown",
   "metadata": {},
   "source": [
    "Offensive lineman have the highest salary on average, but quarterbacks in the NFL have the most potential for making a lot of money."
   ]
  },
  {
   "cell_type": "markdown",
   "metadata": {},
   "source": [
    "Quarterbacks by far have the widest distribution of salaries, containing the highest and the lowest salaries in the whole dataset with a max of 37,000,000 and a minimum of 24,705."
   ]
  },
  {
   "cell_type": "markdown",
   "metadata": {},
   "source": [
    "Overall, the average salaries for players in the NFL have been increasing during the past 8 years for every position except running backs. Playing offensive line is the most likely scenario that will fetch you the highest salary on average. Defensive lineman and quarterbacks have had very similar trends in salary, although there is huge earning potential as a quarterback. Running back salaries have been stagnant, and in the future I would be curious to see if special team player salaries ever reach the same level as running backs'."
   ]
  },
  {
   "cell_type": "markdown",
   "metadata": {},
   "source": [
    "\n",
    "\n",
    "\n",
    "\n",
    "\n",
    "\n",
    "\n",
    "\n"
   ]
  },
  {
   "cell_type": "markdown",
   "metadata": {},
   "source": [
    "Now for my second dataset. It contains statistics for NFL players across several games and several seasons. It contains running,\n",
    "receiving, and passing yards, fumbles, QB ratings, etc. I want to use this dataset to see which nfl team had the highest output offense (in terms of passing and rushing yards) as well as which quarterbacks held the highest average rating in each year. I want to see if the quarterbacks who had top ratings led high output offenses. I would also like to investigate my question that arose during the analysis of the previous dataset: Do stagnant running back salaries reflect less value being placed on running backs and increased value being placed on tight ends and wide receivers?"
   ]
  },
  {
   "cell_type": "code",
   "execution_count": 184,
   "metadata": {},
   "outputs": [],
   "source": [
    "## use pandas to read in nfl_stats data\n",
    "nfl_stats = pd.read_csv(\"C:/Users/camer/Desktop/nfl_stats.csv\")"
   ]
  },
  {
   "cell_type": "code",
   "execution_count": 185,
   "metadata": {},
   "outputs": [
    {
     "data": {
      "text/html": [
       "<div>\n",
       "<style scoped>\n",
       "    .dataframe tbody tr th:only-of-type {\n",
       "        vertical-align: middle;\n",
       "    }\n",
       "\n",
       "    .dataframe tbody tr th {\n",
       "        vertical-align: top;\n",
       "    }\n",
       "\n",
       "    .dataframe thead th {\n",
       "        text-align: right;\n",
       "    }\n",
       "</style>\n",
       "<table border=\"1\" class=\"dataframe\">\n",
       "  <thead>\n",
       "    <tr style=\"text-align: right;\">\n",
       "      <th></th>\n",
       "      <th>Unnamed: 0</th>\n",
       "      <th>name</th>\n",
       "      <th>team</th>\n",
       "      <th>game_year</th>\n",
       "      <th>game_week</th>\n",
       "      <th>rush_att</th>\n",
       "      <th>rush_yds</th>\n",
       "      <th>rush_avg</th>\n",
       "      <th>rush_tds</th>\n",
       "      <th>rush_fumbles</th>\n",
       "      <th>...</th>\n",
       "      <th>rec_tds</th>\n",
       "      <th>rec_fumbles</th>\n",
       "      <th>pass_att</th>\n",
       "      <th>pass_yds</th>\n",
       "      <th>pass_tds</th>\n",
       "      <th>int</th>\n",
       "      <th>sck</th>\n",
       "      <th>pass_fumbles</th>\n",
       "      <th>rate</th>\n",
       "      <th>position</th>\n",
       "    </tr>\n",
       "  </thead>\n",
       "  <tbody>\n",
       "    <tr>\n",
       "      <th>0</th>\n",
       "      <td>1</td>\n",
       "      <td>Duce Staley</td>\n",
       "      <td>PHI</td>\n",
       "      <td>2000</td>\n",
       "      <td>1</td>\n",
       "      <td>26.0</td>\n",
       "      <td>201.0</td>\n",
       "      <td>7.7</td>\n",
       "      <td>1.0</td>\n",
       "      <td>0.0</td>\n",
       "      <td>...</td>\n",
       "      <td>0.0</td>\n",
       "      <td>0.0</td>\n",
       "      <td>NaN</td>\n",
       "      <td>NaN</td>\n",
       "      <td>NaN</td>\n",
       "      <td>NaN</td>\n",
       "      <td>NaN</td>\n",
       "      <td>NaN</td>\n",
       "      <td>NaN</td>\n",
       "      <td>RB</td>\n",
       "    </tr>\n",
       "    <tr>\n",
       "      <th>1</th>\n",
       "      <td>2</td>\n",
       "      <td>Lamar Smith</td>\n",
       "      <td>MIA</td>\n",
       "      <td>2000</td>\n",
       "      <td>1</td>\n",
       "      <td>27.0</td>\n",
       "      <td>145.0</td>\n",
       "      <td>5.4</td>\n",
       "      <td>1.0</td>\n",
       "      <td>1.0</td>\n",
       "      <td>...</td>\n",
       "      <td>0.0</td>\n",
       "      <td>0.0</td>\n",
       "      <td>NaN</td>\n",
       "      <td>NaN</td>\n",
       "      <td>NaN</td>\n",
       "      <td>NaN</td>\n",
       "      <td>NaN</td>\n",
       "      <td>NaN</td>\n",
       "      <td>NaN</td>\n",
       "      <td>RB</td>\n",
       "    </tr>\n",
       "    <tr>\n",
       "      <th>2</th>\n",
       "      <td>3</td>\n",
       "      <td>Tiki Barber</td>\n",
       "      <td>NYG</td>\n",
       "      <td>2000</td>\n",
       "      <td>1</td>\n",
       "      <td>13.0</td>\n",
       "      <td>144.0</td>\n",
       "      <td>11.1</td>\n",
       "      <td>2.0</td>\n",
       "      <td>0.0</td>\n",
       "      <td>...</td>\n",
       "      <td>0.0</td>\n",
       "      <td>0.0</td>\n",
       "      <td>NaN</td>\n",
       "      <td>NaN</td>\n",
       "      <td>NaN</td>\n",
       "      <td>NaN</td>\n",
       "      <td>NaN</td>\n",
       "      <td>NaN</td>\n",
       "      <td>NaN</td>\n",
       "      <td>RB</td>\n",
       "    </tr>\n",
       "    <tr>\n",
       "      <th>3</th>\n",
       "      <td>4</td>\n",
       "      <td>Stephen Davis</td>\n",
       "      <td>WAS</td>\n",
       "      <td>2000</td>\n",
       "      <td>1</td>\n",
       "      <td>23.0</td>\n",
       "      <td>133.0</td>\n",
       "      <td>5.8</td>\n",
       "      <td>1.0</td>\n",
       "      <td>0.0</td>\n",
       "      <td>...</td>\n",
       "      <td>0.0</td>\n",
       "      <td>0.0</td>\n",
       "      <td>NaN</td>\n",
       "      <td>NaN</td>\n",
       "      <td>NaN</td>\n",
       "      <td>NaN</td>\n",
       "      <td>NaN</td>\n",
       "      <td>NaN</td>\n",
       "      <td>NaN</td>\n",
       "      <td>RB</td>\n",
       "    </tr>\n",
       "    <tr>\n",
       "      <th>4</th>\n",
       "      <td>5</td>\n",
       "      <td>Edgerrin James</td>\n",
       "      <td>IND</td>\n",
       "      <td>2000</td>\n",
       "      <td>1</td>\n",
       "      <td>28.0</td>\n",
       "      <td>124.0</td>\n",
       "      <td>4.4</td>\n",
       "      <td>1.0</td>\n",
       "      <td>1.0</td>\n",
       "      <td>...</td>\n",
       "      <td>1.0</td>\n",
       "      <td>0.0</td>\n",
       "      <td>NaN</td>\n",
       "      <td>NaN</td>\n",
       "      <td>NaN</td>\n",
       "      <td>NaN</td>\n",
       "      <td>NaN</td>\n",
       "      <td>NaN</td>\n",
       "      <td>NaN</td>\n",
       "      <td>RB</td>\n",
       "    </tr>\n",
       "  </tbody>\n",
       "</table>\n",
       "<p>5 rows × 23 columns</p>\n",
       "</div>"
      ],
      "text/plain": [
       "   Unnamed: 0            name team  game_year  game_week  rush_att  rush_yds  \\\n",
       "0           1     Duce Staley  PHI       2000          1      26.0     201.0   \n",
       "1           2     Lamar Smith  MIA       2000          1      27.0     145.0   \n",
       "2           3     Tiki Barber  NYG       2000          1      13.0     144.0   \n",
       "3           4   Stephen Davis  WAS       2000          1      23.0     133.0   \n",
       "4           5  Edgerrin James  IND       2000          1      28.0     124.0   \n",
       "\n",
       "   rush_avg  rush_tds  rush_fumbles    ...     rec_tds  rec_fumbles  pass_att  \\\n",
       "0       7.7       1.0           0.0    ...         0.0          0.0       NaN   \n",
       "1       5.4       1.0           1.0    ...         0.0          0.0       NaN   \n",
       "2      11.1       2.0           0.0    ...         0.0          0.0       NaN   \n",
       "3       5.8       1.0           0.0    ...         0.0          0.0       NaN   \n",
       "4       4.4       1.0           1.0    ...         1.0          0.0       NaN   \n",
       "\n",
       "   pass_yds  pass_tds  int  sck  pass_fumbles  rate  position  \n",
       "0       NaN       NaN  NaN  NaN           NaN   NaN        RB  \n",
       "1       NaN       NaN  NaN  NaN           NaN   NaN        RB  \n",
       "2       NaN       NaN  NaN  NaN           NaN   NaN        RB  \n",
       "3       NaN       NaN  NaN  NaN           NaN   NaN        RB  \n",
       "4       NaN       NaN  NaN  NaN           NaN   NaN        RB  \n",
       "\n",
       "[5 rows x 23 columns]"
      ]
     },
     "execution_count": 185,
     "metadata": {},
     "output_type": "execute_result"
    }
   ],
   "source": [
    "## make sure data read in correctly\n",
    "nfl_stats.head()"
   ]
  },
  {
   "cell_type": "code",
   "execution_count": 186,
   "metadata": {},
   "outputs": [
    {
     "data": {
      "text/plain": [
       "array(['Unnamed: 0', 'name', 'team', 'game_year', 'game_week', 'rush_att',\n",
       "       'rush_yds', 'rush_avg', 'rush_tds', 'rush_fumbles', 'rec',\n",
       "       'rec_yds', 'rec_avg', 'rec_tds', 'rec_fumbles', 'pass_att',\n",
       "       'pass_yds', 'pass_tds', 'int', 'sck', 'pass_fumbles', 'rate',\n",
       "       'position'], dtype=object)"
      ]
     },
     "execution_count": 186,
     "metadata": {},
     "output_type": "execute_result"
    }
   ],
   "source": [
    "## the first column is a duplicate of dataframe index. Display column names\n",
    "nfl_stats.columns.values"
   ]
  },
  {
   "cell_type": "code",
   "execution_count": 187,
   "metadata": {},
   "outputs": [],
   "source": [
    "## remove the first column\n",
    "nfl_stats = nfl_stats.drop('Unnamed: 0', axis = 1)"
   ]
  },
  {
   "cell_type": "code",
   "execution_count": 193,
   "metadata": {},
   "outputs": [
    {
     "data": {
      "text/html": [
       "<div>\n",
       "<style scoped>\n",
       "    .dataframe tbody tr th:only-of-type {\n",
       "        vertical-align: middle;\n",
       "    }\n",
       "\n",
       "    .dataframe tbody tr th {\n",
       "        vertical-align: top;\n",
       "    }\n",
       "\n",
       "    .dataframe thead th {\n",
       "        text-align: right;\n",
       "    }\n",
       "</style>\n",
       "<table border=\"1\" class=\"dataframe\">\n",
       "  <thead>\n",
       "    <tr style=\"text-align: right;\">\n",
       "      <th></th>\n",
       "      <th>name</th>\n",
       "      <th>team</th>\n",
       "      <th>game_year</th>\n",
       "      <th>game_week</th>\n",
       "      <th>rush_att</th>\n",
       "      <th>rush_yds</th>\n",
       "      <th>rush_avg</th>\n",
       "      <th>rush_tds</th>\n",
       "      <th>rush_fumbles</th>\n",
       "      <th>rec</th>\n",
       "      <th>...</th>\n",
       "      <th>rec_tds</th>\n",
       "      <th>rec_fumbles</th>\n",
       "      <th>pass_att</th>\n",
       "      <th>pass_yds</th>\n",
       "      <th>pass_tds</th>\n",
       "      <th>int</th>\n",
       "      <th>sck</th>\n",
       "      <th>pass_fumbles</th>\n",
       "      <th>rate</th>\n",
       "      <th>position</th>\n",
       "    </tr>\n",
       "  </thead>\n",
       "  <tbody>\n",
       "    <tr>\n",
       "      <th>0</th>\n",
       "      <td>Duce Staley</td>\n",
       "      <td>PHI</td>\n",
       "      <td>2000</td>\n",
       "      <td>1</td>\n",
       "      <td>26.0</td>\n",
       "      <td>201.0</td>\n",
       "      <td>7.7</td>\n",
       "      <td>1.0</td>\n",
       "      <td>0.0</td>\n",
       "      <td>4.0</td>\n",
       "      <td>...</td>\n",
       "      <td>0.0</td>\n",
       "      <td>0.0</td>\n",
       "      <td>NaN</td>\n",
       "      <td>NaN</td>\n",
       "      <td>NaN</td>\n",
       "      <td>NaN</td>\n",
       "      <td>NaN</td>\n",
       "      <td>NaN</td>\n",
       "      <td>NaN</td>\n",
       "      <td>RB</td>\n",
       "    </tr>\n",
       "    <tr>\n",
       "      <th>1</th>\n",
       "      <td>Lamar Smith</td>\n",
       "      <td>MIA</td>\n",
       "      <td>2000</td>\n",
       "      <td>1</td>\n",
       "      <td>27.0</td>\n",
       "      <td>145.0</td>\n",
       "      <td>5.4</td>\n",
       "      <td>1.0</td>\n",
       "      <td>1.0</td>\n",
       "      <td>1.0</td>\n",
       "      <td>...</td>\n",
       "      <td>0.0</td>\n",
       "      <td>0.0</td>\n",
       "      <td>NaN</td>\n",
       "      <td>NaN</td>\n",
       "      <td>NaN</td>\n",
       "      <td>NaN</td>\n",
       "      <td>NaN</td>\n",
       "      <td>NaN</td>\n",
       "      <td>NaN</td>\n",
       "      <td>RB</td>\n",
       "    </tr>\n",
       "    <tr>\n",
       "      <th>2</th>\n",
       "      <td>Tiki Barber</td>\n",
       "      <td>NYG</td>\n",
       "      <td>2000</td>\n",
       "      <td>1</td>\n",
       "      <td>13.0</td>\n",
       "      <td>144.0</td>\n",
       "      <td>11.1</td>\n",
       "      <td>2.0</td>\n",
       "      <td>0.0</td>\n",
       "      <td>3.0</td>\n",
       "      <td>...</td>\n",
       "      <td>0.0</td>\n",
       "      <td>0.0</td>\n",
       "      <td>NaN</td>\n",
       "      <td>NaN</td>\n",
       "      <td>NaN</td>\n",
       "      <td>NaN</td>\n",
       "      <td>NaN</td>\n",
       "      <td>NaN</td>\n",
       "      <td>NaN</td>\n",
       "      <td>RB</td>\n",
       "    </tr>\n",
       "    <tr>\n",
       "      <th>3</th>\n",
       "      <td>Stephen Davis</td>\n",
       "      <td>WAS</td>\n",
       "      <td>2000</td>\n",
       "      <td>1</td>\n",
       "      <td>23.0</td>\n",
       "      <td>133.0</td>\n",
       "      <td>5.8</td>\n",
       "      <td>1.0</td>\n",
       "      <td>0.0</td>\n",
       "      <td>4.0</td>\n",
       "      <td>...</td>\n",
       "      <td>0.0</td>\n",
       "      <td>0.0</td>\n",
       "      <td>NaN</td>\n",
       "      <td>NaN</td>\n",
       "      <td>NaN</td>\n",
       "      <td>NaN</td>\n",
       "      <td>NaN</td>\n",
       "      <td>NaN</td>\n",
       "      <td>NaN</td>\n",
       "      <td>RB</td>\n",
       "    </tr>\n",
       "    <tr>\n",
       "      <th>4</th>\n",
       "      <td>Edgerrin James</td>\n",
       "      <td>IND</td>\n",
       "      <td>2000</td>\n",
       "      <td>1</td>\n",
       "      <td>28.0</td>\n",
       "      <td>124.0</td>\n",
       "      <td>4.4</td>\n",
       "      <td>1.0</td>\n",
       "      <td>1.0</td>\n",
       "      <td>6.0</td>\n",
       "      <td>...</td>\n",
       "      <td>1.0</td>\n",
       "      <td>0.0</td>\n",
       "      <td>NaN</td>\n",
       "      <td>NaN</td>\n",
       "      <td>NaN</td>\n",
       "      <td>NaN</td>\n",
       "      <td>NaN</td>\n",
       "      <td>NaN</td>\n",
       "      <td>NaN</td>\n",
       "      <td>RB</td>\n",
       "    </tr>\n",
       "  </tbody>\n",
       "</table>\n",
       "<p>5 rows × 22 columns</p>\n",
       "</div>"
      ],
      "text/plain": [
       "             name team  game_year  game_week  rush_att  rush_yds  rush_avg  \\\n",
       "0     Duce Staley  PHI       2000          1      26.0     201.0       7.7   \n",
       "1     Lamar Smith  MIA       2000          1      27.0     145.0       5.4   \n",
       "2     Tiki Barber  NYG       2000          1      13.0     144.0      11.1   \n",
       "3   Stephen Davis  WAS       2000          1      23.0     133.0       5.8   \n",
       "4  Edgerrin James  IND       2000          1      28.0     124.0       4.4   \n",
       "\n",
       "   rush_tds  rush_fumbles  rec    ...     rec_tds  rec_fumbles  pass_att  \\\n",
       "0       1.0           0.0  4.0    ...         0.0          0.0       NaN   \n",
       "1       1.0           1.0  1.0    ...         0.0          0.0       NaN   \n",
       "2       2.0           0.0  3.0    ...         0.0          0.0       NaN   \n",
       "3       1.0           0.0  4.0    ...         0.0          0.0       NaN   \n",
       "4       1.0           1.0  6.0    ...         1.0          0.0       NaN   \n",
       "\n",
       "   pass_yds  pass_tds  int  sck  pass_fumbles  rate  position  \n",
       "0       NaN       NaN  NaN  NaN           NaN   NaN        RB  \n",
       "1       NaN       NaN  NaN  NaN           NaN   NaN        RB  \n",
       "2       NaN       NaN  NaN  NaN           NaN   NaN        RB  \n",
       "3       NaN       NaN  NaN  NaN           NaN   NaN        RB  \n",
       "4       NaN       NaN  NaN  NaN           NaN   NaN        RB  \n",
       "\n",
       "[5 rows x 22 columns]"
      ]
     },
     "execution_count": 193,
     "metadata": {},
     "output_type": "execute_result"
    }
   ],
   "source": [
    "## check that removal worked \n",
    "nfl_stats.head()"
   ]
  },
  {
   "cell_type": "markdown",
   "metadata": {},
   "source": [
    "Now I want to check for any outliers."
   ]
  },
  {
   "cell_type": "code",
   "execution_count": 197,
   "metadata": {},
   "outputs": [
    {
     "data": {
      "text/html": [
       "<div>\n",
       "<style scoped>\n",
       "    .dataframe tbody tr th:only-of-type {\n",
       "        vertical-align: middle;\n",
       "    }\n",
       "\n",
       "    .dataframe tbody tr th {\n",
       "        vertical-align: top;\n",
       "    }\n",
       "\n",
       "    .dataframe thead th {\n",
       "        text-align: right;\n",
       "    }\n",
       "</style>\n",
       "<table border=\"1\" class=\"dataframe\">\n",
       "  <thead>\n",
       "    <tr style=\"text-align: right;\">\n",
       "      <th></th>\n",
       "      <th>rush_att</th>\n",
       "      <th>rush_yds</th>\n",
       "      <th>rush_avg</th>\n",
       "      <th>rush_tds</th>\n",
       "      <th>rush_fumbles</th>\n",
       "      <th>rec</th>\n",
       "      <th>rec_yds</th>\n",
       "      <th>rec_avg</th>\n",
       "      <th>rec_tds</th>\n",
       "      <th>rec_fumbles</th>\n",
       "      <th>pass_att</th>\n",
       "      <th>pass_yds</th>\n",
       "      <th>pass_tds</th>\n",
       "      <th>int</th>\n",
       "      <th>sck</th>\n",
       "      <th>pass_fumbles</th>\n",
       "      <th>rate</th>\n",
       "    </tr>\n",
       "  </thead>\n",
       "  <tbody>\n",
       "    <tr>\n",
       "      <th>count</th>\n",
       "      <td>33815.000000</td>\n",
       "      <td>33815.000000</td>\n",
       "      <td>33815.000000</td>\n",
       "      <td>33815.000000</td>\n",
       "      <td>33815.000000</td>\n",
       "      <td>64803.000000</td>\n",
       "      <td>64803.000000</td>\n",
       "      <td>64803.000000</td>\n",
       "      <td>64803.000000</td>\n",
       "      <td>64803.000000</td>\n",
       "      <td>10481.00000</td>\n",
       "      <td>10481.000000</td>\n",
       "      <td>10481.000000</td>\n",
       "      <td>10481.000000</td>\n",
       "      <td>10481.000000</td>\n",
       "      <td>10481.000000</td>\n",
       "      <td>10481.000000</td>\n",
       "    </tr>\n",
       "    <tr>\n",
       "      <th>mean</th>\n",
       "      <td>6.961201</td>\n",
       "      <td>28.910809</td>\n",
       "      <td>4.053373</td>\n",
       "      <td>0.205353</td>\n",
       "      <td>0.082212</td>\n",
       "      <td>2.715831</td>\n",
       "      <td>31.228601</td>\n",
       "      <td>10.155359</td>\n",
       "      <td>0.187985</td>\n",
       "      <td>0.031511</td>\n",
       "      <td>27.64345</td>\n",
       "      <td>193.080431</td>\n",
       "      <td>1.162294</td>\n",
       "      <td>0.798302</td>\n",
       "      <td>1.877206</td>\n",
       "      <td>0.151608</td>\n",
       "      <td>81.565318</td>\n",
       "    </tr>\n",
       "    <tr>\n",
       "      <th>std</th>\n",
       "      <td>7.285874</td>\n",
       "      <td>35.927843</td>\n",
       "      <td>4.593679</td>\n",
       "      <td>0.496990</td>\n",
       "      <td>0.299220</td>\n",
       "      <td>2.201397</td>\n",
       "      <td>32.361871</td>\n",
       "      <td>7.903188</td>\n",
       "      <td>0.447792</td>\n",
       "      <td>0.180688</td>\n",
       "      <td>13.53352</td>\n",
       "      <td>105.802970</td>\n",
       "      <td>1.134173</td>\n",
       "      <td>0.970343</td>\n",
       "      <td>1.695610</td>\n",
       "      <td>0.405367</td>\n",
       "      <td>31.916764</td>\n",
       "    </tr>\n",
       "    <tr>\n",
       "      <th>min</th>\n",
       "      <td>0.000000</td>\n",
       "      <td>-34.000000</td>\n",
       "      <td>-34.000000</td>\n",
       "      <td>0.000000</td>\n",
       "      <td>0.000000</td>\n",
       "      <td>0.000000</td>\n",
       "      <td>-22.000000</td>\n",
       "      <td>-22.000000</td>\n",
       "      <td>0.000000</td>\n",
       "      <td>0.000000</td>\n",
       "      <td>0.00000</td>\n",
       "      <td>-11.000000</td>\n",
       "      <td>0.000000</td>\n",
       "      <td>0.000000</td>\n",
       "      <td>0.000000</td>\n",
       "      <td>0.000000</td>\n",
       "      <td>0.000000</td>\n",
       "    </tr>\n",
       "    <tr>\n",
       "      <th>25%</th>\n",
       "      <td>1.000000</td>\n",
       "      <td>4.000000</td>\n",
       "      <td>2.000000</td>\n",
       "      <td>0.000000</td>\n",
       "      <td>0.000000</td>\n",
       "      <td>1.000000</td>\n",
       "      <td>8.000000</td>\n",
       "      <td>5.100000</td>\n",
       "      <td>0.000000</td>\n",
       "      <td>0.000000</td>\n",
       "      <td>21.00000</td>\n",
       "      <td>126.000000</td>\n",
       "      <td>0.000000</td>\n",
       "      <td>0.000000</td>\n",
       "      <td>1.000000</td>\n",
       "      <td>0.000000</td>\n",
       "      <td>60.200000</td>\n",
       "    </tr>\n",
       "    <tr>\n",
       "      <th>50%</th>\n",
       "      <td>4.000000</td>\n",
       "      <td>15.000000</td>\n",
       "      <td>3.500000</td>\n",
       "      <td>0.000000</td>\n",
       "      <td>0.000000</td>\n",
       "      <td>2.000000</td>\n",
       "      <td>21.000000</td>\n",
       "      <td>9.000000</td>\n",
       "      <td>0.000000</td>\n",
       "      <td>0.000000</td>\n",
       "      <td>30.00000</td>\n",
       "      <td>204.000000</td>\n",
       "      <td>1.000000</td>\n",
       "      <td>1.000000</td>\n",
       "      <td>2.000000</td>\n",
       "      <td>0.000000</td>\n",
       "      <td>82.100000</td>\n",
       "    </tr>\n",
       "    <tr>\n",
       "      <th>75%</th>\n",
       "      <td>10.000000</td>\n",
       "      <td>42.000000</td>\n",
       "      <td>5.300000</td>\n",
       "      <td>0.000000</td>\n",
       "      <td>0.000000</td>\n",
       "      <td>4.000000</td>\n",
       "      <td>45.000000</td>\n",
       "      <td>13.500000</td>\n",
       "      <td>0.000000</td>\n",
       "      <td>0.000000</td>\n",
       "      <td>37.00000</td>\n",
       "      <td>267.000000</td>\n",
       "      <td>2.000000</td>\n",
       "      <td>1.000000</td>\n",
       "      <td>3.000000</td>\n",
       "      <td>0.000000</td>\n",
       "      <td>103.200000</td>\n",
       "    </tr>\n",
       "    <tr>\n",
       "      <th>max</th>\n",
       "      <td>43.000000</td>\n",
       "      <td>296.000000</td>\n",
       "      <td>77.000000</td>\n",
       "      <td>5.000000</td>\n",
       "      <td>3.000000</td>\n",
       "      <td>21.000000</td>\n",
       "      <td>329.000000</td>\n",
       "      <td>99.000000</td>\n",
       "      <td>4.000000</td>\n",
       "      <td>2.000000</td>\n",
       "      <td>68.00000</td>\n",
       "      <td>527.000000</td>\n",
       "      <td>7.000000</td>\n",
       "      <td>7.000000</td>\n",
       "      <td>12.000000</td>\n",
       "      <td>3.000000</td>\n",
       "      <td>158.300000</td>\n",
       "    </tr>\n",
       "  </tbody>\n",
       "</table>\n",
       "</div>"
      ],
      "text/plain": [
       "           rush_att      rush_yds      rush_avg      rush_tds  rush_fumbles  \\\n",
       "count  33815.000000  33815.000000  33815.000000  33815.000000  33815.000000   \n",
       "mean       6.961201     28.910809      4.053373      0.205353      0.082212   \n",
       "std        7.285874     35.927843      4.593679      0.496990      0.299220   \n",
       "min        0.000000    -34.000000    -34.000000      0.000000      0.000000   \n",
       "25%        1.000000      4.000000      2.000000      0.000000      0.000000   \n",
       "50%        4.000000     15.000000      3.500000      0.000000      0.000000   \n",
       "75%       10.000000     42.000000      5.300000      0.000000      0.000000   \n",
       "max       43.000000    296.000000     77.000000      5.000000      3.000000   \n",
       "\n",
       "                rec       rec_yds       rec_avg       rec_tds   rec_fumbles  \\\n",
       "count  64803.000000  64803.000000  64803.000000  64803.000000  64803.000000   \n",
       "mean       2.715831     31.228601     10.155359      0.187985      0.031511   \n",
       "std        2.201397     32.361871      7.903188      0.447792      0.180688   \n",
       "min        0.000000    -22.000000    -22.000000      0.000000      0.000000   \n",
       "25%        1.000000      8.000000      5.100000      0.000000      0.000000   \n",
       "50%        2.000000     21.000000      9.000000      0.000000      0.000000   \n",
       "75%        4.000000     45.000000     13.500000      0.000000      0.000000   \n",
       "max       21.000000    329.000000     99.000000      4.000000      2.000000   \n",
       "\n",
       "          pass_att      pass_yds      pass_tds           int           sck  \\\n",
       "count  10481.00000  10481.000000  10481.000000  10481.000000  10481.000000   \n",
       "mean      27.64345    193.080431      1.162294      0.798302      1.877206   \n",
       "std       13.53352    105.802970      1.134173      0.970343      1.695610   \n",
       "min        0.00000    -11.000000      0.000000      0.000000      0.000000   \n",
       "25%       21.00000    126.000000      0.000000      0.000000      1.000000   \n",
       "50%       30.00000    204.000000      1.000000      1.000000      2.000000   \n",
       "75%       37.00000    267.000000      2.000000      1.000000      3.000000   \n",
       "max       68.00000    527.000000      7.000000      7.000000     12.000000   \n",
       "\n",
       "       pass_fumbles          rate  \n",
       "count  10481.000000  10481.000000  \n",
       "mean       0.151608     81.565318  \n",
       "std        0.405367     31.916764  \n",
       "min        0.000000      0.000000  \n",
       "25%        0.000000     60.200000  \n",
       "50%        0.000000     82.100000  \n",
       "75%        0.000000    103.200000  \n",
       "max        3.000000    158.300000  "
      ]
     },
     "execution_count": 197,
     "metadata": {},
     "output_type": "execute_result"
    }
   ],
   "source": [
    "## run .describe to get simple summary stats of all variables excluding character variables and variables for year/week\n",
    "nfl_stats.describe(exclude = ['object', 'int64'])"
   ]
  },
  {
   "cell_type": "markdown",
   "metadata": {},
   "source": [
    "It doesn't look like there are any outliers that would cause issues, so I'll move on to checking for missing data."
   ]
  },
  {
   "cell_type": "code",
   "execution_count": 198,
   "metadata": {},
   "outputs": [
    {
     "name": "stdout",
     "output_type": "stream",
     "text": [
      "<class 'pandas.core.frame.DataFrame'>\n",
      "RangeIndex: 81525 entries, 0 to 81524\n",
      "Data columns (total 22 columns):\n",
      "name            81525 non-null object\n",
      "team            75237 non-null object\n",
      "game_year       81525 non-null int64\n",
      "game_week       81525 non-null int64\n",
      "rush_att        33815 non-null float64\n",
      "rush_yds        33815 non-null float64\n",
      "rush_avg        33815 non-null float64\n",
      "rush_tds        33815 non-null float64\n",
      "rush_fumbles    33815 non-null float64\n",
      "rec             64803 non-null float64\n",
      "rec_yds         64803 non-null float64\n",
      "rec_avg         64803 non-null float64\n",
      "rec_tds         64803 non-null float64\n",
      "rec_fumbles     64803 non-null float64\n",
      "pass_att        10481 non-null float64\n",
      "pass_yds        10481 non-null float64\n",
      "pass_tds        10481 non-null float64\n",
      "int             10481 non-null float64\n",
      "sck             10481 non-null float64\n",
      "pass_fumbles    10481 non-null float64\n",
      "rate            10481 non-null float64\n",
      "position        81525 non-null object\n",
      "dtypes: float64(17), int64(2), object(3)\n",
      "memory usage: 13.7+ MB\n"
     ]
    }
   ],
   "source": [
    "## run .info to get count of observations by variable as well as variable types\n",
    "nfl_stats.info()"
   ]
  },
  {
   "cell_type": "markdown",
   "metadata": {},
   "source": [
    "There are actually many missing values in the dataset, but that's because some of the variables don't apply to all of the players in the data: some of the variables in the data are position exclusive. I want to check for differences between the number of observations that variables for the same position have. For example, all variables that start with rush should have the same number of observations. The 'rec' variables should all have the same number, and variables pass_att through rate should have the same number of observations, since they are all for quarterbacks."
   ]
  },
  {
   "cell_type": "markdown",
   "metadata": {},
   "source": [
    "The only variable that doesn't seem to have an accurate number of observations is the team column. It should have the same \n",
    "number of observations as the name variable and the game_year and game_week variables."
   ]
  },
  {
   "cell_type": "markdown",
   "metadata": {},
   "source": [
    "Now I want to get a general picture of what the data looks like:"
   ]
  },
  {
   "cell_type": "code",
   "execution_count": 208,
   "metadata": {},
   "outputs": [
    {
     "name": "stdout",
     "output_type": "stream",
     "text": [
      "There are 2758 players in the data.\n",
      "There are 36 teams in the data.\n",
      "The data covers 18 years.\n",
      "The data covers 16 weeks per year.\n",
      "The players in the data play the positions ['RB' 'QB' 'WR/TE']\n"
     ]
    }
   ],
   "source": [
    "## print the number of players in the data\n",
    "print('There are', len(nfl_stats.name.unique()), 'players in the data.')\n",
    "## print the number of teams\n",
    "print('There are', len(nfl_stats.team.unique()), 'teams in the data.')\n",
    "## print the number of years the data covers\n",
    "print('The data covers', len(nfl_stats.game_year.unique()), 'years.')\n",
    "## print the number of weeks per season that the data covers\n",
    "print('The data covers', len(nfl_stats.game_week.unique()), 'weeks per year.')\n",
    "## print all the positions in the data\n",
    "print('The players in the data play the positions', nfl_stats.position.unique())"
   ]
  },
  {
   "cell_type": "markdown",
   "metadata": {},
   "source": [
    "There are 2758 players in the dataset, covering all 36 teams for their 16 regular season games over each of 18 years. There are 3 positions in the dataset: Running Back, Quarterback, and Wide Receiver/Tight End."
   ]
  },
  {
   "cell_type": "markdown",
   "metadata": {},
   "source": [
    "Now to investigate and handle the missing data in the team column."
   ]
  },
  {
   "cell_type": "code",
   "execution_count": 213,
   "metadata": {},
   "outputs": [],
   "source": [
    "## create 'missing_teams', containing all the data where the team variable is missing\n",
    "missing_teams = nfl_stats[nfl_stats.team.isnull()]"
   ]
  },
  {
   "cell_type": "code",
   "execution_count": 217,
   "metadata": {},
   "outputs": [
    {
     "data": {
      "text/plain": [
       "array([2001, 2002, 2003, 2004, 2005, 2006, 2007, 2008, 2009, 2010, 2011,\n",
       "       2012, 2013, 2014, 2015, 2016], dtype=int64)"
      ]
     },
     "execution_count": 217,
     "metadata": {},
     "output_type": "execute_result"
    }
   ],
   "source": [
    "## create 'miss_yrs', containing all the years that have missing data\n",
    "miss_yrs = missing_teams.game_year.unique()\n",
    "miss_yrs"
   ]
  },
  {
   "cell_type": "code",
   "execution_count": 226,
   "metadata": {},
   "outputs": [
    {
     "data": {
      "text/plain": [
       "array([2000, 2017], dtype=int64)"
      ]
     },
     "execution_count": 226,
     "metadata": {},
     "output_type": "execute_result"
    }
   ],
   "source": [
    "## create 'all_yrs', containing every year from the full dataset\n",
    "## use np.isin to filter out the years from 'all_yrs' that are not in 'miss_yrs' and store them in full_yrs\n",
    "all_yrs = nfl_stats.game_year.unique()\n",
    "full_yrs = all_yrs[np.isin(all_yrs, miss_yrs, invert = True)]\n",
    "full_yrs"
   ]
  },
  {
   "cell_type": "markdown",
   "metadata": {},
   "source": [
    "2000 and 2017 are the only years where none of the players are missing team info. I want to know how many players are actually missing team info, and whether it's data I could easily find."
   ]
  },
  {
   "cell_type": "code",
   "execution_count": 236,
   "metadata": {},
   "outputs": [
    {
     "data": {
      "text/plain": [
       "345"
      ]
     },
     "execution_count": 236,
     "metadata": {},
     "output_type": "execute_result"
    }
   ],
   "source": [
    "## find how many unique player names there are in the missing_teams dataframe\n",
    "len(missing_teams.name.unique())"
   ]
  },
  {
   "cell_type": "markdown",
   "metadata": {},
   "source": [
    "There are 345 players missing the team variable, which is a lot more than I can input by hand for this assignment. Maybe some of the years only have a couple players with a missing team variable, so if I could find their teams I could have more years of complete data."
   ]
  },
  {
   "cell_type": "code",
   "execution_count": 237,
   "metadata": {},
   "outputs": [
    {
     "data": {
      "text/plain": [
       "game_year\n",
       "2001    [LaDainian Tomlinson, Marshall Faulk, Curtis C...\n",
       "2002    [LaDainian Tomlinson, Fred Taylor, Terrell Fle...\n",
       "2003    [Fred Taylor, LaDainian Tomlinson, Marshall Fa...\n",
       "2004    [Marshall Faulk, LaDainian Tomlinson, Fred Tay...\n",
       "2005    [Fred Taylor, LaDainian Tomlinson, Steven Jack...\n",
       "2006    [LaDainian Tomlinson, Steven Jackson, Fred Tay...\n",
       "2007    [Steven Jackson, Michael Turner, Maurice Jones...\n",
       "2008    [LaDainian Tomlinson, Steven Jackson, Fred Tay...\n",
       "2009    [Maurice Jones-Drew, Steven Jackson, LaDainian...\n",
       "2010    [Maurice Jones-Drew, Steven Jackson, Ryan Math...\n",
       "2011    [Maurice Jones-Drew, Carnell Williams, Steven ...\n",
       "2012    [Maurice Jones-Drew, Steven Jackson, Rashad Je...\n",
       "2013    [Daryl Richardson, Maurice Jones-Drew, Ryan Ma...\n",
       "2014    [Zac Stacy, Toby Gerhart, Ryan Mathews, Benny ...\n",
       "2015    [Melvin Gordon, T.J. Yeldon, Benny Cunningham,...\n",
       "2016    [Danny Woodhead, Melvin Gordon, Philip Rivers,...\n",
       "Name: name, dtype: object"
      ]
     },
     "execution_count": 237,
     "metadata": {},
     "output_type": "execute_result"
    }
   ],
   "source": [
    "## group the observations in missing_teams by game_year to see how many players with missing team info there are per year\n",
    "missing_teams.groupby('game_year').name.unique()"
   ]
  },
  {
   "cell_type": "markdown",
   "metadata": {},
   "source": [
    "It looks like there's more than a couple players with missing teams per year, but I can't see the exact numbers, so I'll use a for loop and the len() function."
   ]
  },
  {
   "cell_type": "code",
   "execution_count": 238,
   "metadata": {},
   "outputs": [
    {
     "name": "stdout",
     "output_type": "stream",
     "text": [
      "47\n",
      "46\n",
      "58\n",
      "50\n",
      "47\n",
      "43\n",
      "53\n",
      "51\n",
      "50\n",
      "56\n",
      "62\n",
      "59\n",
      "55\n",
      "54\n",
      "53\n",
      "20\n"
     ]
    }
   ],
   "source": [
    "## create yr_vec which contains all the years in the missing_teams dataframe\n",
    "## for each year in yr_vec, print the length of an array containing the names of every player missing team info in a given year\n",
    "yr_vec = missing_teams.game_year.unique()\n",
    "for yr in yr_vec:\n",
    "    cur_yr_data = missing_teams[missing_teams.game_year == yr]\n",
    "    print(len(cur_yr_data.name.unique()))"
   ]
  },
  {
   "cell_type": "markdown",
   "metadata": {},
   "source": [
    "Every year except 2000 and 2017 is missing data for quite a few players, so I don't think I'll spend time inputing the teams manually."
   ]
  },
  {
   "cell_type": "markdown",
   "metadata": {},
   "source": [
    "To answer the question from my previous dataset of whether stagnant running back salaries reflect less value being placed on running backs and increased value being placed on tight ends and wide receivers, I want to compare the composition of offensive yardage across all years in the NFL. The missing team information won't limit this analysis, since I'm just comparing the proporiton of yards gained by rushing to yards gained by passing over the years in the dataset. My hypothesis is that the number of offensive yards gained by running backs has decreased in proportion to the number of passing yards gained by an offense. In this sense, running backs have become less valuable and are therefore not getting paid more."
   ]
  },
  {
   "cell_type": "code",
   "execution_count": 249,
   "metadata": {},
   "outputs": [],
   "source": [
    "## create stat_sum, which groups the data by year and sums up all the observations for each variable\n",
    "stat_sum = nfl_stats.groupby('game_year').sum()"
   ]
  },
  {
   "cell_type": "code",
   "execution_count": 258,
   "metadata": {},
   "outputs": [],
   "source": [
    "## create variable 'run_prop', which is the ratio of rushing yards to passing yards\n",
    "stat_sum['run_rat'] = stat_sum['rush_yds'] / stat_sum['pass_yds']"
   ]
  },
  {
   "cell_type": "code",
   "execution_count": 259,
   "metadata": {},
   "outputs": [
    {
     "data": {
      "text/plain": [
       "[<matplotlib.lines.Line2D at 0x14eac321cf8>]"
      ]
     },
     "execution_count": 259,
     "metadata": {},
     "output_type": "execute_result"
    },
    {
     "data": {
      "image/png": "[encoded data removed]",
      "text/plain": [
       "<Figure size 1080x432 with 1 Axes>"
      ]
     },
     "metadata": {},
     "output_type": "display_data"
    }
   ],
   "source": [
    "## create space for plot to fill\n",
    "## create line plot of the ration of rushing to passing yards over time\n",
    "plt.subplots(figsize = (15, 6))\n",
    "plt.plot(stat_sum.index, stat_sum.run_rat)"
   ]
  },
  {
   "cell_type": "markdown",
   "metadata": {},
   "source": [
    "The ratio of rushing to passing yards has decreased over the last 17 years. This may help explain why running back salaries haven't been increasing like the salaries for other positions."
   ]
  },
  {
   "cell_type": "markdown",
   "metadata": {},
   "source": [
    "Now I want to start answering my other questions: Which NFL team had the highest output offense (in terms of overall yards gained)? Which quarterbacks held the highest average rating? Did the quarterbacks with the highest ratings also lead high output offenses?"
   ]
  },
  {
   "cell_type": "markdown",
   "metadata": {},
   "source": [
    "Since all the years except 2000 and 2017 are missing data on what team many players belonged to, I won't be able to accurately compare stats across teams in those years. I'm going to focus on the years 2000 and 2017 for this portion of the analysis, since they aren't missing any data."
   ]
  },
  {
   "cell_type": "code",
   "execution_count": null,
   "metadata": {},
   "outputs": [],
   "source": [
    "yearly_stats = full_data.groupby('team').sum()"
   ]
  },
  {
   "cell_type": "code",
   "execution_count": null,
   "metadata": {},
   "outputs": [],
   "source": [
    "yearly_stats"
   ]
  },
  {
   "cell_type": "code",
   "execution_count": null,
   "metadata": {},
   "outputs": [],
   "source": [
    "yearly_stats['total_yds'] = yearly_stats['rush_yds'] + yearly_stats['pass_yds']"
   ]
  },
  {
   "cell_type": "code",
   "execution_count": null,
   "metadata": {},
   "outputs": [],
   "source": [
    "yearly_stats = yearly_stats.sort_values('total_yds', ascending = False)"
   ]
  },
  {
   "cell_type": "code",
   "execution_count": null,
   "metadata": {},
   "outputs": [],
   "source": [
    "yearly_stats.head()"
   ]
  },
  {
   "cell_type": "code",
   "execution_count": null,
   "metadata": {},
   "outputs": [],
   "source": [
    "f, ax = plt.subplots(figsize=(15, 15))\n",
    "sns.set_color_codes('pastel')\n",
    "sns.barplot(x = yearly_stats.index, y = 'total_yds', data = yearly_stats, label = 'Total', color = 'b')\n",
    "sns.set_color_codes('muted')\n",
    "sns.barplot(x = yearly_stats.index, y = 'rush_yds', data = yearly_stats, label = 'Rush', color = 'b')\n",
    "ax.legend(ncol = 2, loc = 'upper right', frameon = True)\n",
    "ax.set(ylabel = 'Total Offensive Yards', xlabel = 'Team')"
   ]
  },
  {
   "cell_type": "markdown",
   "metadata": {},
   "source": [
    "It looks like New England has the highest output offense with New Orleans close behind. The majority of every team's total yardage comes from passing. I wonder if there are divisions in the NFL that are stronger than others in terms of overall offense."
   ]
  },
  {
   "cell_type": "code",
   "execution_count": null,
   "metadata": {},
   "outputs": [],
   "source": [
    "divs = pd.read_csv(\"C:/Users/camer/Desktop/Machine_Learning/nfl_divisions.csv\")"
   ]
  },
  {
   "cell_type": "code",
   "execution_count": null,
   "metadata": {},
   "outputs": [],
   "source": [
    "div_stats = pd.merge(yearly_stats, divs, on = 'team')\n",
    "yearly_stats = pd.merge(yearly_stats, divs, on = 'team')"
   ]
  },
  {
   "cell_type": "code",
   "execution_count": null,
   "metadata": {},
   "outputs": [],
   "source": [
    "div_stats.head()"
   ]
  },
  {
   "cell_type": "code",
   "execution_count": null,
   "metadata": {},
   "outputs": [],
   "source": [
    "div_stats = div_stats.groupby('div').sum()"
   ]
  },
  {
   "cell_type": "code",
   "execution_count": null,
   "metadata": {},
   "outputs": [],
   "source": [
    "div_stats.head()"
   ]
  },
  {
   "cell_type": "code",
   "execution_count": null,
   "metadata": {},
   "outputs": [],
   "source": [
    "div_stats = div_stats.sort_values('total_yds', ascending = False)"
   ]
  },
  {
   "cell_type": "code",
   "execution_count": null,
   "metadata": {},
   "outputs": [],
   "source": [
    "f, ax = plt.subplots(figsize=(15, 15))\n",
    "sns.set_color_codes('pastel')\n",
    "sns.barplot(x = div_stats.index, y = 'total_yds', data = div_stats, label = 'Total', color = 'g')\n",
    "sns.set_color_codes('muted')\n",
    "sns.barplot(x = div_stats.index, y = 'rush_yds', data = div_stats, label = 'Rush', color = 'g')\n",
    "ax.legend(ncol = 2, loc = 'upper right', frameon = True)\n",
    "ax.set(ylabel = 'Total Offensive Yards', xlabel = 'Division')"
   ]
  },
  {
   "cell_type": "code",
   "execution_count": null,
   "metadata": {},
   "outputs": [],
   "source": [
    "yearly_stats[yearly_stats['div'] == 'NFC South']['team']"
   ]
  },
  {
   "cell_type": "markdown",
   "metadata": {},
   "source": [
    "New Orleans, Atlanta, Tampa Bay, and Carolina are in the NFC south, the division with the most offensive yards."
   ]
  },
  {
   "cell_type": "markdown",
   "metadata": {},
   "source": [
    "Now I want to look at which quarterbacks have the highest ratings and whether teams with a lot of yards are led by quarterbacks with the best ratings."
   ]
  },
  {
   "cell_type": "code",
   "execution_count": null,
   "metadata": {},
   "outputs": [],
   "source": [
    "qbs = nfl_stats[(nfl_stats['position'] == 'QB') & (nfl_stats['game_year'] == 2017)]"
   ]
  },
  {
   "cell_type": "code",
   "execution_count": null,
   "metadata": {},
   "outputs": [],
   "source": [
    "qbs.head()"
   ]
  },
  {
   "cell_type": "code",
   "execution_count": null,
   "metadata": {},
   "outputs": [],
   "source": [
    "avg_rates = qbs.groupby('name').mean().sort_values('rate', ascending = False)"
   ]
  },
  {
   "cell_type": "code",
   "execution_count": null,
   "metadata": {},
   "outputs": [],
   "source": [
    "avg_rates.head()"
   ]
  },
  {
   "cell_type": "code",
   "execution_count": null,
   "metadata": {},
   "outputs": [],
   "source": [
    "top_rated = avg_rates[:5]\n"
   ]
  },
  {
   "cell_type": "code",
   "execution_count": null,
   "metadata": {},
   "outputs": [],
   "source": []
  },
  {
   "cell_type": "code",
   "execution_count": null,
   "metadata": {},
   "outputs": [],
   "source": []
  },
  {
   "cell_type": "code",
   "execution_count": null,
   "metadata": {},
   "outputs": [],
   "source": [
    "top_rated.index"
   ]
  },
  {
   "cell_type": "code",
   "execution_count": null,
   "metadata": {},
   "outputs": [],
   "source": []
  },
  {
   "cell_type": "code",
   "execution_count": null,
   "metadata": {},
   "outputs": [],
   "source": []
  },
  {
   "cell_type": "code",
   "execution_count": null,
   "metadata": {},
   "outputs": [],
   "source": []
  },
  {
   "cell_type": "code",
   "execution_count": null,
   "metadata": {},
   "outputs": [],
   "source": []
  },
  {
   "cell_type": "code",
   "execution_count": null,
   "metadata": {},
   "outputs": [],
   "source": []
  },
  {
   "cell_type": "code",
   "execution_count": null,
   "metadata": {},
   "outputs": [],
   "source": []
  },
  {
   "cell_type": "code",
   "execution_count": null,
   "metadata": {},
   "outputs": [],
   "source": []
  },
  {
   "cell_type": "code",
   "execution_count": null,
   "metadata": {},
   "outputs": [],
   "source": [
    "travel_data = pd.read_excel(\"C:/Users/camer/Desktop/mbta.xlsx\")"
   ]
  }
 ],
 "metadata": {
  "kernelspec": {
   "display_name": "Python 3",
   "language": "python",
   "name": "python3"
  },
  "language_info": {
   "codemirror_mode": {
    "name": "ipython",
    "version": 3
   },
   "file_extension": ".py",
   "mimetype": "text/x-python",
   "name": "python",
   "nbconvert_exporter": "python",
   "pygments_lexer": "ipython3",
   "version": "3.6.5"
  }
 },
 "nbformat": 4,
 "nbformat_minor": 2
}
